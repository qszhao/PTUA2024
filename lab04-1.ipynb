{
 "cells": [
  {
   "cell_type": "code",
   "execution_count": 7,
   "id": "f1f97eff",
   "metadata": {},
   "outputs": [
    {
     "name": "stdout",
     "output_type": "stream",
     "text": [
      "\n",
      "\n",
      "Neighbor relations:\n",
      "{0: [49], 1: [2], 2: [3], 4: [4], 3: [4], 5: [7], 8: [5], 15: [4], 6: [2], 9: [6], 7: [3], 14: [6], 12: [5], 26: [4], 10: [3], 20: [9], 11: [4], 16: [7], 13: [3], 19: [3], 25: [5], 17: [3], 23: [3], 18: [24, 14], 24: [6], 35: [5], 21: [4], 34: [36], 22: [5], 28: [7], 32: [4], 30: [4], 29: [4], 27: [4], 33: [4], 38: [4], 37: [5], 31: [2], 36: [39], 41: [3], 42: [2], 44: [48, 45], 46: [2], 45: [4], 43: [5], 39: [2], 40: [41], 47: [2], 48: [4], 49: [3]}\n",
      "\n",
      "Neighbor histogram:\n",
      "{1: [0, 1, 2, 4, 3, 5, 8, 15, 6, 9, 7, 14, 12, 26, 10, 20, 11, 16, 13, 19, 25, 17, 23, 24, 35, 21, 34, 22, 28, 32, 30, 29, 27, 33, 38, 37, 31, 36, 41, 42, 46, 45, 43, 39, 40, 47, 48, 49], 2: [18, 44]}\n"
     ]
    }
   ],
   "source": [
    "def read_file(file):\n",
    "    gal_dict = {}\n",
    "    with open(file, 'r') as file:\n",
    "        for line in file:\n",
    "            part = line.strip().split()\n",
    "            point_id = int(part[0])\n",
    "            neighbors = []\n",
    "            for n in part[1:]:\n",
    "                try:\n",
    "                    neighbors.append(int(n))\n",
    "                except ValueError:\n",
    "                    print()\n",
    "                gal_dict[point_id] = neighbors\n",
    "    return gal_dict\n",
    "\n",
    "\n",
    "def get_histogram(gal_dict):\n",
    "   \n",
    "    histogram = {}\n",
    "    for point_id, neighbors in gal_dict.items():\n",
    "        num_neighbors = len(neighbors)\n",
    "        if num_neighbors not in histogram:\n",
    "            histogram[num_neighbors] = []\n",
    "        histogram[num_neighbors].append(point_id)\n",
    "    return histogram\n",
    "\n",
    "def check(gal_dict):\n",
    "    \n",
    "    for point_id, neighbors in gal_dict.items():\n",
    "        for neighbor_id in neighbors:\n",
    "            if point_id not in gal_dict.get(neighbor_id, []):\n",
    "                return True\n",
    "    return False\n",
    "\n",
    "def test():\n",
    "   \n",
    "    gal_dict = read_file(\"Lab04-1.gal\")\n",
    "    print(\"Neighbor relations:\")\n",
    "    print(gal_dict)\n",
    "\n",
    "    histogram = get_histogram(gal_dict)\n",
    "    print(\"\\nNeighbor histogram:\")\n",
    "    print(histogram)\n",
    "\n",
    "    asymmetry = check(gal_dict)\n",
    "\n",
    "if __name__ == \"__main__\":\n",
    "    test()\n"
   ]
  },
  {
   "cell_type": "code",
   "execution_count": null,
   "id": "fcd1a3ff",
   "metadata": {},
   "outputs": [],
   "source": []
  }
 ],
 "metadata": {
  "kernelspec": {
   "display_name": "Python 3 (ipykernel)",
   "language": "python",
   "name": "python3"
  },
  "language_info": {
   "codemirror_mode": {
    "name": "ipython",
    "version": 3
   },
   "file_extension": ".py",
   "mimetype": "text/x-python",
   "name": "python",
   "nbconvert_exporter": "python",
   "pygments_lexer": "ipython3",
   "version": "3.11.5"
  }
 },
 "nbformat": 4,
 "nbformat_minor": 5
}
