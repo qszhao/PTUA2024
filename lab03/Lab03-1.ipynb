{
 "cells": [
  {
   "cell_type": "code",
   "execution_count": null,
   "id": "4922f569",
   "metadata": {},
   "outputs": [],
   "source": [
    "# Chapter 2"
   ]
  },
  {
   "cell_type": "code",
   "execution_count": 22,
   "id": "a178d0cf",
   "metadata": {
    "scrolled": true
   },
   "outputs": [
    {
     "name": "stdout",
     "output_type": "stream",
     "text": [
      "523.5987755982987\n"
     ]
    }
   ],
   "source": [
    "import numpy as np\n",
    "def volume(x):\n",
    "    pi=np.pi\n",
    "    v= 4/3*x*x*x*pi\n",
    "    print(v)\n",
    "\n",
    "volume(5)"
   ]
  },
  {
   "cell_type": "code",
   "execution_count": 25,
   "id": "d86c73cc",
   "metadata": {},
   "outputs": [
    {
     "name": "stdout",
     "output_type": "stream",
     "text": [
      "7228.2\n"
     ]
    }
   ],
   "source": [
    "def total_price(x):\n",
    "    cover_price=24.95\n",
    "    discout_rate=0.4\n",
    "    discounted_price=cover_price*(1 - discount_rate)\n",
    "    total_cost=x*discounted_price\n",
    "    for i in range(1,x):\n",
    "        i+=3+(i-1)*0.75\n",
    "        y=i*x+total_cost\n",
    "    print(y)\n",
    "\n",
    "total_price(60)"
   ]
  },
  {
   "cell_type": "code",
   "execution_count": 30,
   "id": "d12e040e",
   "metadata": {},
   "outputs": [
    {
     "name": "stdout",
     "output_type": "stream",
     "text": [
      "07:30:06\n"
     ]
    }
   ],
   "source": [
    "import datetime\n",
    "\n",
    "start_time = datetime.time(hour=6, minute=52, second=0)\n",
    "second=(8*60+15)+(7*60+12)*3+8*60+15\n",
    "new_time = datetime.datetime.combine(datetime.datetime.today(), start_time) + datetime.timedelta(seconds=second)\n",
    "\n",
    "print(new_time.time())\n",
    "\n",
    "\n"
   ]
  },
  {
   "cell_type": "code",
   "execution_count": 33,
   "id": "6ccab719",
   "metadata": {
    "scrolled": true
   },
   "outputs": [
    {
     "name": "stdout",
     "output_type": "stream",
     "text": [
      "['MAXYEAR', 'MINYEAR', 'UTC', '__all__', '__builtins__', '__cached__', '__doc__', '__file__', '__loader__', '__name__', '__package__', '__spec__', 'date', 'datetime', 'datetime_CAPI', 'sys', 'time', 'timedelta', 'timezone', 'tzinfo']\n"
     ]
    }
   ],
   "source": [
    "import datetime\n",
    "print(dir(datetime))\n"
   ]
  },
  {
   "cell_type": "code",
   "execution_count": 32,
   "id": "8372d40c",
   "metadata": {},
   "outputs": [],
   "source": [
    "# Chapter 8"
   ]
  },
  {
   "cell_type": "code",
   "execution_count": 32,
   "id": "0364747d",
   "metadata": {},
   "outputs": [
    {
     "name": "stdout",
     "output_type": "stream",
     "text": [
      "number of a’s in 'banana' is 3\n"
     ]
    }
   ],
   "source": [
    "text='banana'\n",
    "n=0\n",
    "for i in range(0,len(text)):\n",
    "    if text[i]=='a':\n",
    "        n+=1\n",
    "print(\"Number of a’s in 'banana' is\",n)"
   ]
  },
  {
   "cell_type": "code",
   "execution_count": 62,
   "id": "bcc1a808",
   "metadata": {},
   "outputs": [
    {
     "name": "stdout",
     "output_type": "stream",
     "text": [
      "False\n",
      "True\n",
      "True\n"
     ]
    }
   ],
   "source": [
    "def is_palindrome(word):\n",
    "    return word == word[::-1]\n",
    "    \n",
    "print(is_palindrome('student'))\n",
    "print(is_palindrome('dad'))\n",
    "print(is_palindrome('mom'))"
   ]
  },
  {
   "cell_type": "code",
   "execution_count": 5,
   "id": "62b26494",
   "metadata": {},
   "outputs": [
    {
     "data": {
      "text/plain": [
       "True"
      ]
     },
     "execution_count": 5,
     "metadata": {},
     "output_type": "execute_result"
    }
   ],
   "source": [
    "def any_lowercase1(s):\n",
    "    for c in s:\n",
    "        if c.islower():\n",
    "            return True\n",
    "        else:\n",
    "            return False\n",
    "#This function checks if the first character in the string s is lowercase. If it is, it returns True; otherwise, it returns False.This is because the return statement is inside the loop, so it only evaluates the first character.\n",
    "\n",
    "def any_lowercase2(s):\n",
    "    for c in s:\n",
    "        if 'c'.islower():\n",
    "            return 'True'\n",
    "        else:\n",
    "            return 'False'\n",
    "#This function always returns the string 'True'. The condition 'c'.islower() will always return True because the letter 'c' is always lowercase. Hence, the function will never properly check the input string.\n",
    "\n",
    "\n",
    "def any_lowercase3(s):\n",
    "    for c in s:\n",
    "        flag = c.islower()\n",
    "    return flag\n",
    "#This function checks if the last character in the string s is lowercase. It iterates over each character in the string and updates the flag variable with the result of checking if the current character is lowercase. However, it only returns the result of the check for the last character in the string. So, it checks only the last character.\n",
    "\n",
    "def any_lowercase4(s):\n",
    "    flag = False\n",
    "    for c in s:\n",
    "        flag = flag or c.islower()\n",
    "    return flag\n",
    "#This function correctly checks if any character in the string s is lowercase. It iterates over each character in the string and updates the flag variable if it encounters a lowercase character. It returns True if it finds at least one lowercase character; otherwise, it returns False.\n",
    "\n",
    "def any_lowercase5(s):\n",
    "    for c in s:\n",
    "        if not c.islower():\n",
    "            return False\n",
    "    return True\n",
    "#This function checks if all characters in the string s are lowercase. It iterates over each character in the string and checks if it is not lowercase. If any character is not lowercase, it immediately returns False. If it reaches the end of the string without finding any non-lowercase characters, it returns True.\n",
    "\n",
    "any_lowercase3('banana')"
   ]
  },
  {
   "cell_type": "code",
   "execution_count": 36,
   "id": "74f6de08",
   "metadata": {},
   "outputs": [
    {
     "name": "stdout",
     "output_type": "stream",
     "text": [
      "jolly\n",
      "cubed\n",
      "IBM\n"
     ]
    }
   ],
   "source": [
    "def rotate_word(word,n):\n",
    "    rotated_word=''\n",
    "    for m in word:\n",
    "        if m.isalpha():\n",
    "            if m.islower():\n",
    "                offset = ord('a')\n",
    "            else: \n",
    "                offset = ord('A')\n",
    "            rotated_m = chr((ord(m) - offset + n) % 26 +offset)\n",
    "            rotated_word += rotated_m\n",
    "        else:\n",
    "            rotated_word += m \n",
    "    return rotated_word \n",
    "\n",
    "print(rotate_word('cheer', 7))   \n",
    "print(rotate_word('melon', -10))  \n",
    "print(rotate_word('HAL', 1)) "
   ]
  },
  {
   "cell_type": "code",
   "execution_count": null,
   "id": "66f96a90",
   "metadata": {},
   "outputs": [],
   "source": []
  }
 ],
 "metadata": {
  "kernelspec": {
   "display_name": "Python 3 (ipykernel)",
   "language": "python",
   "name": "python3"
  },
  "language_info": {
   "codemirror_mode": {
    "name": "ipython",
    "version": 3
   },
   "file_extension": ".py",
   "mimetype": "text/x-python",
   "name": "python",
   "nbconvert_exporter": "python",
   "pygments_lexer": "ipython3",
   "version": "3.11.5"
  }
 },
 "nbformat": 4,
 "nbformat_minor": 5
}
