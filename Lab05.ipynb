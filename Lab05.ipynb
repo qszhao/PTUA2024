{
 "cells": [
  {
   "cell_type": "code",
   "execution_count": 8,
   "id": "69fb876c",
   "metadata": {
    "scrolled": true
   },
   "outputs": [
    {
     "data": {
      "text/html": [
       "<div>\n",
       "<style scoped>\n",
       "    .dataframe tbody tr th:only-of-type {\n",
       "        vertical-align: middle;\n",
       "    }\n",
       "\n",
       "    .dataframe tbody tr th {\n",
       "        vertical-align: top;\n",
       "    }\n",
       "\n",
       "    .dataframe thead th {\n",
       "        text-align: right;\n",
       "    }\n",
       "</style>\n",
       "<table border=\"1\" class=\"dataframe\">\n",
       "  <thead>\n",
       "    <tr style=\"text-align: right;\">\n",
       "      <th></th>\n",
       "      <th>lat</th>\n",
       "      <th>lon</th>\n",
       "      <th>date</th>\n",
       "      <th>city</th>\n",
       "      <th>country</th>\n",
       "    </tr>\n",
       "  </thead>\n",
       "  <tbody>\n",
       "    <tr>\n",
       "      <th>0</th>\n",
       "      <td>51.481292</td>\n",
       "      <td>-0.451011</td>\n",
       "      <td>05/14/2014 09:07</td>\n",
       "      <td>West Drayton</td>\n",
       "      <td>United Kingdom</td>\n",
       "    </tr>\n",
       "    <tr>\n",
       "      <th>1</th>\n",
       "      <td>51.474005</td>\n",
       "      <td>-0.450999</td>\n",
       "      <td>05/14/2014 09:22</td>\n",
       "      <td>Hounslow</td>\n",
       "      <td>United Kingdom</td>\n",
       "    </tr>\n",
       "    <tr>\n",
       "      <th>2</th>\n",
       "      <td>51.478199</td>\n",
       "      <td>-0.446081</td>\n",
       "      <td>05/14/2014 10:51</td>\n",
       "      <td>Hounslow</td>\n",
       "      <td>United Kingdom</td>\n",
       "    </tr>\n",
       "    <tr>\n",
       "      <th>3</th>\n",
       "      <td>51.478199</td>\n",
       "      <td>-0.446081</td>\n",
       "      <td>05/14/2014 11:24</td>\n",
       "      <td>Hounslow</td>\n",
       "      <td>United Kingdom</td>\n",
       "    </tr>\n",
       "    <tr>\n",
       "      <th>4</th>\n",
       "      <td>51.474146</td>\n",
       "      <td>-0.451562</td>\n",
       "      <td>05/14/2014 11:38</td>\n",
       "      <td>Hounslow</td>\n",
       "      <td>United Kingdom</td>\n",
       "    </tr>\n",
       "  </tbody>\n",
       "</table>\n",
       "</div>"
      ],
      "text/plain": [
       "         lat       lon              date          city         country\n",
       "0  51.481292 -0.451011  05/14/2014 09:07  West Drayton  United Kingdom\n",
       "1  51.474005 -0.450999  05/14/2014 09:22      Hounslow  United Kingdom\n",
       "2  51.478199 -0.446081  05/14/2014 10:51      Hounslow  United Kingdom\n",
       "3  51.478199 -0.446081  05/14/2014 11:24      Hounslow  United Kingdom\n",
       "4  51.474146 -0.451562  05/14/2014 11:38      Hounslow  United Kingdom"
      ]
     },
     "execution_count": 8,
     "metadata": {},
     "output_type": "execute_result"
    }
   ],
   "source": [
    "import pandas as pd, numpy as np, matplotlib. pyplot as plt\n",
    "\n",
    "df = pd.read_csv('D:/anaconda working/text/summer-travel-gps-full.csv')\n",
    "df.head()"
   ]
  },
  {
   "cell_type": "code",
   "execution_count": 13,
   "id": "de684cfb",
   "metadata": {},
   "outputs": [
    {
     "name": "stdout",
     "output_type": "stream",
     "text": [
      "              city         country\n",
      "0     West Drayton  United Kingdom\n",
      "1         Hounslow  United Kingdom\n",
      "2         Hounslow  United Kingdom\n",
      "3         Hounslow  United Kingdom\n",
      "4         Hounslow  United Kingdom\n",
      "...            ...             ...\n",
      "1754        Munich         Germany\n",
      "1755        Munich         Germany\n",
      "1756        Munich         Germany\n",
      "1757        Munich         Germany\n",
      "1758        Munich         Germany\n",
      "\n",
      "[1759 rows x 2 columns]\n"
     ]
    }
   ],
   "source": [
    "# Q1 \n",
    "df = pd.read_csv('D:/anaconda working/text/summer-travel-gps-full.csv')\n",
    "selected_columns = df[['city', 'country']]\n",
    "\n",
    "print(selected_columns)"
   ]
  },
  {
   "cell_type": "code",
   "execution_count": 14,
   "id": "083176d7",
   "metadata": {},
   "outputs": [
    {
     "name": "stdout",
     "output_type": "stream",
     "text": [
      "0    West Drayton\n",
      "1        Hounslow\n",
      "2        Hounslow\n",
      "3        Hounslow\n",
      "4        Hounslow\n",
      "Name: city, dtype: object\n"
     ]
    }
   ],
   "source": [
    "# Q2 \n",
    "first_five_cities = df['city'].head(5)\n",
    "print(first_five_cities)"
   ]
  },
  {
   "cell_type": "code",
   "execution_count": 15,
   "id": "54b18035",
   "metadata": {},
   "outputs": [
    {
     "name": "stdout",
     "output_type": "stream",
     "text": [
      "lat               51.478199\n",
      "lon               -0.446081\n",
      "date       05/14/2014 10:51\n",
      "city               Hounslow\n",
      "country      United Kingdom\n",
      "Name: 2, dtype: object\n"
     ]
    }
   ],
   "source": [
    "# Q3\n",
    "third_row = df.loc[2]\n",
    "print(third_row)"
   ]
  },
  {
   "cell_type": "code",
   "execution_count": 16,
   "id": "a602ee6e",
   "metadata": {},
   "outputs": [
    {
     "name": "stdout",
     "output_type": "stream",
     "text": [
      "United Kingdom\n"
     ]
    }
   ],
   "source": [
    "# Q4 \n",
    "first_country = df.loc[0, 'country']\n",
    "print(first_country)"
   ]
  },
  {
   "cell_type": "code",
   "execution_count": 17,
   "id": "2103552a",
   "metadata": {},
   "outputs": [
    {
     "name": "stdout",
     "output_type": "stream",
     "text": [
      "           city              date\n",
      "0  West Drayton  05/14/2014 09:07\n",
      "1      Hounslow  05/14/2014 09:22\n",
      "2      Hounslow  05/14/2014 10:51\n",
      "3      Hounslow  05/14/2014 11:24\n"
     ]
    }
   ],
   "source": [
    "# Q5\n",
    "first_four_rows = df.loc[0:3, ['city', 'date']]\n",
    "print(first_four_rows)"
   ]
  },
  {
   "cell_type": "code",
   "execution_count": 18,
   "id": "6774a8ac",
   "metadata": {},
   "outputs": [
    {
     "name": "stdout",
     "output_type": "stream",
     "text": [
      "-0.446081\n"
     ]
    }
   ],
   "source": [
    "# Q6\n",
    "value = df.iloc[2, 1]\n",
    "print(value)"
   ]
  },
  {
   "cell_type": "code",
   "execution_count": 19,
   "id": "b32a0c7e",
   "metadata": {},
   "outputs": [
    {
     "name": "stdout",
     "output_type": "stream",
     "text": [
      "            lat        lon              date          city         country\n",
      "0     51.481292  -0.451011  05/14/2014 09:07  West Drayton  United Kingdom\n",
      "300   41.377091   2.151175  05/20/2014 03:18     Barcelona           Spain\n",
      "600   50.052338  19.946220  05/31/2014 21:10        Krakow          Poland\n",
      "900   48.561181   9.059672  06/09/2014 15:12      Tübingen         Germany\n",
      "1200  41.378301   2.187443  06/17/2014 16:37     Barcelona           Spain\n",
      "1500  42.208201  20.735993  06/30/2014 08:27       Prizren          Kosovo\n"
     ]
    }
   ],
   "source": [
    "# Q7\n",
    "every_300th_row = df.iloc[::300]\n",
    "print(every_300th_row)"
   ]
  },
  {
   "cell_type": "code",
   "execution_count": 20,
   "id": "e7045728",
   "metadata": {},
   "outputs": [
    {
     "data": {
      "text/html": [
       "<div>\n",
       "<style scoped>\n",
       "    .dataframe tbody tr th:only-of-type {\n",
       "        vertical-align: middle;\n",
       "    }\n",
       "\n",
       "    .dataframe tbody tr th {\n",
       "        vertical-align: top;\n",
       "    }\n",
       "\n",
       "    .dataframe thead th {\n",
       "        text-align: right;\n",
       "    }\n",
       "</style>\n",
       "<table border=\"1\" class=\"dataframe\">\n",
       "  <thead>\n",
       "    <tr style=\"text-align: right;\">\n",
       "      <th></th>\n",
       "      <th>lat</th>\n",
       "      <th>lon</th>\n",
       "      <th>date</th>\n",
       "      <th>city</th>\n",
       "      <th>country</th>\n",
       "    </tr>\n",
       "  </thead>\n",
       "  <tbody>\n",
       "    <tr>\n",
       "      <th>173</th>\n",
       "      <td>41.044556</td>\n",
       "      <td>28.983286</td>\n",
       "      <td>07/08/2014 16:44</td>\n",
       "      <td>Istanbul</td>\n",
       "      <td>Turkey</td>\n",
       "    </tr>\n",
       "    <tr>\n",
       "      <th>174</th>\n",
       "      <td>41.008992</td>\n",
       "      <td>28.968268</td>\n",
       "      <td>07/08/2014 20:03</td>\n",
       "      <td>Istanbul</td>\n",
       "      <td>Turkey</td>\n",
       "    </tr>\n",
       "    <tr>\n",
       "      <th>175</th>\n",
       "      <td>41.043487</td>\n",
       "      <td>28.985488</td>\n",
       "      <td>07/08/2014 22:18</td>\n",
       "      <td>Istanbul</td>\n",
       "      <td>Turkey</td>\n",
       "    </tr>\n",
       "    <tr>\n",
       "      <th>176</th>\n",
       "      <td>40.977637</td>\n",
       "      <td>28.823879</td>\n",
       "      <td>07/09/2014 09:03</td>\n",
       "      <td>Istanbul</td>\n",
       "      <td>Turkey</td>\n",
       "    </tr>\n",
       "    <tr>\n",
       "      <th>177</th>\n",
       "      <td>48.357110</td>\n",
       "      <td>11.791346</td>\n",
       "      <td>07/09/2014 13:20</td>\n",
       "      <td>Munich</td>\n",
       "      <td>Germany</td>\n",
       "    </tr>\n",
       "  </tbody>\n",
       "</table>\n",
       "</div>"
      ],
      "text/plain": [
       "           lat        lon              date      city  country\n",
       "173  41.044556  28.983286  07/08/2014 16:44  Istanbul   Turkey\n",
       "174  41.008992  28.968268  07/08/2014 20:03  Istanbul   Turkey\n",
       "175  41.043487  28.985488  07/08/2014 22:18  Istanbul   Turkey\n",
       "176  40.977637  28.823879  07/09/2014 09:03  Istanbul   Turkey\n",
       "177  48.357110  11.791346  07/09/2014 13:20    Munich  Germany"
      ]
     },
     "execution_count": 20,
     "metadata": {},
     "output_type": "execute_result"
    }
   ],
   "source": [
    "df = pd.read_csv('D:/anaconda working/text/summer-travel-gps-simplified.csv')\n",
    "df.tail()"
   ]
  },
  {
   "cell_type": "code",
   "execution_count": 21,
   "id": "e353887a",
   "metadata": {},
   "outputs": [
    {
     "name": "stdout",
     "output_type": "stream",
     "text": [
      "0      False\n",
      "1      False\n",
      "2      False\n",
      "3      False\n",
      "4      False\n",
      "       ...  \n",
      "173    False\n",
      "174    False\n",
      "175    False\n",
      "176    False\n",
      "177     True\n",
      "Name: city, Length: 178, dtype: bool\n"
     ]
    }
   ],
   "source": [
    "# Q9\n",
    "is_munich = df['city'] == 'Munich'\n",
    "print(is_munich)"
   ]
  },
  {
   "cell_type": "code",
   "execution_count": 24,
   "id": "dca0edb9",
   "metadata": {},
   "outputs": [
    {
     "name": "stdout",
     "output_type": "stream",
     "text": [
      "           lat       lon              date                     city country\n",
      "24   41.303911  2.105931  05/18/2014 22:35     El Prat de Llobregat   Spain\n",
      "25   41.289946  2.064590  05/18/2014 23:04               Viladecans   Spain\n",
      "126  41.306752  2.097624  06/12/2014 17:19     El Prat de Llobregat   Spain\n",
      "127  41.304333  2.072728  06/12/2014 17:49     El Prat de Llobregat   Spain\n",
      "131  41.358460  2.128701  06/13/2014 11:35  Hospitalet de Llobregat   Spain\n",
      "138  41.294761  2.059722  06/20/2014 22:15               Viladecans   Spain\n"
     ]
    }
   ],
   "source": [
    "# Q10\n",
    "mask = (df['country'] == 'Spain') & (df['city'] != 'Barcelona')\n",
    "cities_in_spain_not_barcelona = df[mask]\n",
    "\n",
    "print(cities_in_spain_not_barcelona)"
   ]
  },
  {
   "cell_type": "code",
   "execution_count": 25,
   "id": "26a72cf6",
   "metadata": {},
   "outputs": [
    {
     "name": "stdout",
     "output_type": "stream",
     "text": [
      "           lat        lon              date       city  country\n",
      "139  44.821164  20.289821  06/21/2014 01:59   Belgrade   Serbia\n",
      "140  44.820414  20.463465  06/21/2014 18:44   Belgrade   Serbia\n",
      "141  44.761583  19.577904  06/22/2014 07:58  Slepčević   Serbia\n",
      "177  48.357110  11.791346  07/09/2014 13:20     Munich  Germany\n"
     ]
    }
   ],
   "source": [
    "# Q11\n",
    "mask = (df['city'] == 'Munich') | (df['country'] == 'Serbia')\n",
    "selected_rows = df[mask]\n",
    "print(selected_rows)"
   ]
  },
  {
   "cell_type": "code",
   "execution_count": 40,
   "id": "352450e8",
   "metadata": {},
   "outputs": [
    {
     "name": "stdout",
     "output_type": "stream",
     "text": [
      "Number of observations west of the prime meridian: 24\n"
     ]
    }
   ],
   "source": [
    "# Q12\n",
    "observations_west_of_prime_meridian = df[df['lon'] < 0].shape[0]\n",
    "print(\"Number of observations west of the prime meridian:\", observations_west_of_prime_meridian)"
   ]
  },
  {
   "cell_type": "code",
   "execution_count": 38,
   "id": "fbf4dc06",
   "metadata": {
    "scrolled": true
   },
   "outputs": [
    {
     "name": "stdout",
     "output_type": "stream",
     "text": [
      "           lat        lon              date         city  country\n",
      "62   50.273632  18.729429  06/02/2014 06:39      Gliwice   Poland\n",
      "114  48.282940   8.199630  06/10/2014 13:33       Gutach  Germany\n",
      "115  48.389029   8.021342  06/10/2014 13:48   Gengenbach  Germany\n",
      "152  40.187825  20.079303  07/04/2014 17:42  Gjirokastër  Albania\n"
     ]
    }
   ],
   "source": [
    "# Q13\n",
    "mask = df['city'].str.startswith('G')\n",
    "cities_starting_with_g = df[mask]\n",
    "print(cities_starting_with_g)"
   ]
  },
  {
   "cell_type": "code",
   "execution_count": 39,
   "id": "bf9e8755",
   "metadata": {
    "scrolled": true
   },
   "outputs": [
    {
     "name": "stdout",
     "output_type": "stream",
     "text": [
      "unique_cities: 91\n",
      "unique_countries: 15\n",
      "missing_values_number: 0\n"
     ]
    }
   ],
   "source": [
    "# Q14\n",
    "unique_cities = df['city'].nunique()\n",
    "unique_countries = df['country'].nunique()\n",
    "print(\"unique_cities:\",unique_cities)\n",
    "print(\"unique_countries:\",unique_countries)\n",
    "\n",
    "missing_values = df.isnull().sum()\n",
    "total_missing_values = missing_values.sum()\n",
    "print(\"missing_values_number:\",total_missing_values)"
   ]
  },
  {
   "cell_type": "code",
   "execution_count": 41,
   "id": "99a63a07",
   "metadata": {},
   "outputs": [
    {
     "name": "stdout",
     "output_type": "stream",
     "text": [
      "Albania\n",
      "151          Berat\n",
      "152    Gjirokastër\n",
      "Name: city, dtype: object\n",
      "\n",
      "Bosnia and Herzegovina\n",
      "142    Sarajevo\n",
      "143    Sarajevo\n",
      "144      Mostar\n",
      "Name: city, dtype: object\n",
      "\n",
      "Croatia\n",
      "145        Ploče\n",
      "146        Split\n",
      "147    Dubrovnik\n",
      "Name: city, dtype: object\n",
      "\n",
      "Czech Republic\n",
      "65                        Novy Bohumin\n",
      "66                             Hranice\n",
      "67                              Prerov\n",
      "68                     Ústí nad Orlicí\n",
      "69                              Kojice\n",
      "70                              Sadská\n",
      "71                              Prague\n",
      "72                              Prague\n",
      "73                              Prague\n",
      "74                              Prague\n",
      "75                               Úvaly\n",
      "76                            Poříčany\n",
      "77                               Kolin\n",
      "78                          Kutna Hora\n",
      "79                          Kutna Hora\n",
      "80                          Kutna Hora\n",
      "81                          Kutna Hora\n",
      "82    Nové Dvory (Kutná Hora District)\n",
      "83                               Kolin\n",
      "84                          Český Brod\n",
      "85                              Prague\n",
      "86                              Prague\n",
      "87                              Prague\n",
      "88                              Prague\n",
      "89                              Prague\n",
      "90                              Prague\n",
      "91                                Mýto\n",
      "92                               Plzen\n",
      "93                            Blatnice\n",
      "94                            Rozvadov\n",
      "Name: city, dtype: object\n",
      "\n",
      "Germany\n",
      "95               Kümmersbruck\n",
      "96                 Winkelhaid\n",
      "97                Kammerstein\n",
      "98                   Ellhofen\n",
      "99                   Obersulm\n",
      "100                 Stuttgart\n",
      "101                 Stuttgart\n",
      "102                    Wernau\n",
      "103                 Riederich\n",
      "104                  Tübingen\n",
      "105                  Tübingen\n",
      "106                  Tübingen\n",
      "107                  Tübingen\n",
      "108                  Tübingen\n",
      "109                Rottenburg\n",
      "110            Horb am Neckar\n",
      "111           Eutingen im Gäu\n",
      "112              Freudenstadt\n",
      "113                Alpirsbach\n",
      "114                    Gutach\n",
      "115                Gengenbach\n",
      "116                 Offenburg\n",
      "117                  Freiburg\n",
      "118                  Freiburg\n",
      "119                  Freiburg\n",
      "120                  Freiburg\n",
      "121          Titisee-Neustadt\n",
      "122    Villingen-Schwenningen\n",
      "123            Horb am Neckar\n",
      "124        Kirchentellinsfurt\n",
      "125                 Stuttgart\n",
      "177                    Munich\n",
      "Name: city, dtype: object\n",
      "\n",
      "Greece\n",
      "153          Kakavia\n",
      "154    Dytiki Ellada\n",
      "155    Dytiki Ellada\n",
      "156    Dytiki Ellada\n",
      "157    Dytiki Ellada\n",
      "158    Dytiki Ellada\n",
      "159    Dytiki Ellada\n",
      "160      Peloponnese\n",
      "161           Athens\n",
      "162           Athens\n",
      "163           Athens\n",
      "164           Attica\n",
      "Name: city, dtype: object\n",
      "\n",
      "Kosovo\n",
      "149    Prizren\n",
      "Name: city, dtype: object\n",
      "\n",
      "Macedonia (FYROM)\n",
      "150    Ohrid\n",
      "Name: city, dtype: object\n",
      "\n",
      "Montenegro\n",
      "148    Kotor\n",
      "Name: city, dtype: object\n",
      "\n",
      "Poland\n",
      "45                                  Zendek\n",
      "46                    Silesian Voivodeship\n",
      "47                        Dabrowa Gornicza\n",
      "48                           Olkusz County\n",
      "49                                  Krakow\n",
      "50                                Oswiecim\n",
      "51                 Babice, Oświęcim County\n",
      "52    Wygiełzów, Lesser Poland Voivodeship\n",
      "53                         Chrzanów County\n",
      "54                                  Krakow\n",
      "55                                  Krakow\n",
      "56                               Wieliczka\n",
      "57                                  Krakow\n",
      "58       Balice, Lesser Poland Voivodeship\n",
      "59                               Trzebinia\n",
      "60                                 Imielin\n",
      "61                             Ruda Slaska\n",
      "62                                 Gliwice\n",
      "63                  Tarnowskie Góry County\n",
      "64                                   Bytom\n",
      "Name: city, dtype: object\n",
      "\n",
      "Portugal\n",
      "1                    Lisbon\n",
      "2                    Lisbon\n",
      "3                    Lisbon\n",
      "4                    Lisbon\n",
      "5                    Lisbon\n",
      "6                    Lisbon\n",
      "7                    Lisbon\n",
      "8     Algueirão-Mem Martins\n",
      "9                    Sintra\n",
      "10                   Sintra\n",
      "11                   Sintra\n",
      "12                   Sintra\n",
      "13                   Lisbon\n",
      "14                   Lisbon\n",
      "15                 Azambuja\n",
      "16                 Santarém\n",
      "17                 Zibreira\n",
      "18               São Mamede\n",
      "19          Leiria District\n",
      "20     Coimbra Municipality\n",
      "21          Aveiro District\n",
      "22        Vila Nova de Gaia\n",
      "23                     Maia\n",
      "Name: city, dtype: object\n",
      "\n",
      "Serbia\n",
      "139     Belgrade\n",
      "140     Belgrade\n",
      "141    Slepčević\n",
      "Name: city, dtype: object\n",
      "\n",
      "Spain\n",
      "24        El Prat de Llobregat\n",
      "25                  Viladecans\n",
      "26                   Barcelona\n",
      "27                   Barcelona\n",
      "28                   Barcelona\n",
      "29                   Barcelona\n",
      "30                   Barcelona\n",
      "31                   Barcelona\n",
      "32                   Barcelona\n",
      "33                   Barcelona\n",
      "34                   Barcelona\n",
      "35                   Barcelona\n",
      "36                   Barcelona\n",
      "37                   Barcelona\n",
      "38                   Barcelona\n",
      "39                   Barcelona\n",
      "40                   Barcelona\n",
      "41                   Barcelona\n",
      "42                   Barcelona\n",
      "43                   Barcelona\n",
      "44                   Barcelona\n",
      "126       El Prat de Llobregat\n",
      "127       El Prat de Llobregat\n",
      "128                  Barcelona\n",
      "129                  Barcelona\n",
      "130                  Barcelona\n",
      "131    Hospitalet de Llobregat\n",
      "132                  Barcelona\n",
      "133                  Barcelona\n",
      "134                  Barcelona\n",
      "135                  Barcelona\n",
      "136                  Barcelona\n",
      "137                  Barcelona\n",
      "138                 Viladecans\n",
      "Name: city, dtype: object\n",
      "\n",
      "Turkey\n",
      "165    Istanbul\n",
      "166    Istanbul\n",
      "167    Istanbul\n",
      "168    Istanbul\n",
      "169    Istanbul\n",
      "170    Istanbul\n",
      "171    Istanbul\n",
      "172    Istanbul\n",
      "173    Istanbul\n",
      "174    Istanbul\n",
      "175    Istanbul\n",
      "176    Istanbul\n",
      "Name: city, dtype: object\n",
      "\n",
      "United Kingdom\n",
      "0    West Drayton\n",
      "Name: city, dtype: object\n",
      "\n"
     ]
    }
   ],
   "source": [
    "# Q15\n",
    "grouped_by_country = df.groupby('country')\n",
    "for country, group in grouped_by_country:\n",
    "    print(country)\n",
    "    print(group['city'])\n",
    "    print()"
   ]
  },
  {
   "cell_type": "code",
   "execution_count": 42,
   "id": "f1a7b933",
   "metadata": {},
   "outputs": [
    {
     "data": {
      "text/html": [
       "<div>\n",
       "<style scoped>\n",
       "    .dataframe tbody tr th:only-of-type {\n",
       "        vertical-align: middle;\n",
       "    }\n",
       "\n",
       "    .dataframe tbody tr th {\n",
       "        vertical-align: top;\n",
       "    }\n",
       "\n",
       "    .dataframe thead th {\n",
       "        text-align: right;\n",
       "    }\n",
       "</style>\n",
       "<table border=\"1\" class=\"dataframe\">\n",
       "  <thead>\n",
       "    <tr style=\"text-align: right;\">\n",
       "      <th></th>\n",
       "      <th>lat</th>\n",
       "      <th>lon</th>\n",
       "      <th>city</th>\n",
       "      <th>country</th>\n",
       "    </tr>\n",
       "    <tr>\n",
       "      <th>date</th>\n",
       "      <th></th>\n",
       "      <th></th>\n",
       "      <th></th>\n",
       "      <th></th>\n",
       "    </tr>\n",
       "  </thead>\n",
       "  <tbody>\n",
       "    <tr>\n",
       "      <th>2014-05-14 09:07:00</th>\n",
       "      <td>51.481292</td>\n",
       "      <td>-0.451011</td>\n",
       "      <td>West Drayton</td>\n",
       "      <td>United Kingdom</td>\n",
       "    </tr>\n",
       "    <tr>\n",
       "      <th>2014-05-14 09:22:00</th>\n",
       "      <td>51.474005</td>\n",
       "      <td>-0.450999</td>\n",
       "      <td>Hounslow</td>\n",
       "      <td>United Kingdom</td>\n",
       "    </tr>\n",
       "    <tr>\n",
       "      <th>2014-05-14 10:51:00</th>\n",
       "      <td>51.478199</td>\n",
       "      <td>-0.446081</td>\n",
       "      <td>Hounslow</td>\n",
       "      <td>United Kingdom</td>\n",
       "    </tr>\n",
       "    <tr>\n",
       "      <th>2014-05-14 11:24:00</th>\n",
       "      <td>51.478199</td>\n",
       "      <td>-0.446081</td>\n",
       "      <td>Hounslow</td>\n",
       "      <td>United Kingdom</td>\n",
       "    </tr>\n",
       "    <tr>\n",
       "      <th>2014-05-14 11:38:00</th>\n",
       "      <td>51.474146</td>\n",
       "      <td>-0.451562</td>\n",
       "      <td>Hounslow</td>\n",
       "      <td>United Kingdom</td>\n",
       "    </tr>\n",
       "  </tbody>\n",
       "</table>\n",
       "</div>"
      ],
      "text/plain": [
       "                           lat       lon          city         country\n",
       "date                                                                  \n",
       "2014-05-14 09:07:00  51.481292 -0.451011  West Drayton  United Kingdom\n",
       "2014-05-14 09:22:00  51.474005 -0.450999      Hounslow  United Kingdom\n",
       "2014-05-14 10:51:00  51.478199 -0.446081      Hounslow  United Kingdom\n",
       "2014-05-14 11:24:00  51.478199 -0.446081      Hounslow  United Kingdom\n",
       "2014-05-14 11:38:00  51.474146 -0.451562      Hounslow  United Kingdom"
      ]
     },
     "execution_count": 42,
     "metadata": {},
     "output_type": "execute_result"
    }
   ],
   "source": [
    "dt = pd.read_csv('D:/anaconda working/text/summer-travel-gps-full.csv', index_col='date', parse_dates=True)\n",
    "dt.head()"
   ]
  },
  {
   "cell_type": "code",
   "execution_count": 43,
   "id": "a9747a37",
   "metadata": {},
   "outputs": [
    {
     "name": "stdout",
     "output_type": "stream",
     "text": [
      "index is unique？ True\n"
     ]
    }
   ],
   "source": [
    "# Q16\n",
    "is_index_unique = df.index.is_unique\n",
    "print(\"index is unique？\", is_index_unique)"
   ]
  },
  {
   "cell_type": "code",
   "execution_count": 44,
   "id": "681b9413",
   "metadata": {},
   "outputs": [
    {
     "name": "stdout",
     "output_type": "stream",
     "text": [
      "           lat        lon              date          city         country\n",
      "0    51.481292  -0.451011  05/14/2014 09:07  West Drayton  United Kingdom\n",
      "1    38.781775  -9.137544  05/14/2014 15:11        Lisbon        Portugal\n",
      "2    38.711050  -9.139739  05/14/2014 16:40        Lisbon        Portugal\n",
      "3    38.715637  -9.120558  05/14/2014 18:25        Lisbon        Portugal\n",
      "4    38.711977  -9.141788  05/14/2014 19:26        Lisbon        Portugal\n",
      "..         ...        ...               ...           ...             ...\n",
      "173  41.044556  28.983286  07/08/2014 16:44      Istanbul          Turkey\n",
      "174  41.008992  28.968268  07/08/2014 20:03      Istanbul          Turkey\n",
      "175  41.043487  28.985488  07/08/2014 22:18      Istanbul          Turkey\n",
      "176  40.977637  28.823879  07/09/2014 09:03      Istanbul          Turkey\n",
      "177  48.357110  11.791346  07/09/2014 13:20        Munich         Germany\n",
      "\n",
      "[178 rows x 5 columns]\n"
     ]
    }
   ],
   "source": [
    "# Q17\n",
    "df_unique_index = df[~df.index.duplicated(keep='first')]\n",
    "print(df_unique_index)"
   ]
  },
  {
   "cell_type": "code",
   "execution_count": 48,
   "id": "af99eaf3",
   "metadata": {},
   "outputs": [
    {
     "name": "stdout",
     "output_type": "stream",
     "text": [
      "weekday DataFrame:\n",
      "                                     lat        lon              date  \\\n",
      "1970-01-01 00:00:00.000000000  51.481292  -0.451011  05/14/2014 09:07   \n",
      "1970-01-01 00:00:00.000000001  38.781775  -9.137544  05/14/2014 15:11   \n",
      "1970-01-01 00:00:00.000000002  38.711050  -9.139739  05/14/2014 16:40   \n",
      "1970-01-01 00:00:00.000000003  38.715637  -9.120558  05/14/2014 18:25   \n",
      "1970-01-01 00:00:00.000000004  38.711977  -9.141788  05/14/2014 19:26   \n",
      "...                                  ...        ...               ...   \n",
      "1970-01-01 00:00:00.000000173  41.044556  28.983286  07/08/2014 16:44   \n",
      "1970-01-01 00:00:00.000000174  41.008992  28.968268  07/08/2014 20:03   \n",
      "1970-01-01 00:00:00.000000175  41.043487  28.985488  07/08/2014 22:18   \n",
      "1970-01-01 00:00:00.000000176  40.977637  28.823879  07/09/2014 09:03   \n",
      "1970-01-01 00:00:00.000000177  48.357110  11.791346  07/09/2014 13:20   \n",
      "\n",
      "                                       city         country  \n",
      "1970-01-01 00:00:00.000000000  West Drayton  United Kingdom  \n",
      "1970-01-01 00:00:00.000000001        Lisbon        Portugal  \n",
      "1970-01-01 00:00:00.000000002        Lisbon        Portugal  \n",
      "1970-01-01 00:00:00.000000003        Lisbon        Portugal  \n",
      "1970-01-01 00:00:00.000000004        Lisbon        Portugal  \n",
      "...                                     ...             ...  \n",
      "1970-01-01 00:00:00.000000173      Istanbul          Turkey  \n",
      "1970-01-01 00:00:00.000000174      Istanbul          Turkey  \n",
      "1970-01-01 00:00:00.000000175      Istanbul          Turkey  \n",
      "1970-01-01 00:00:00.000000176      Istanbul          Turkey  \n",
      "1970-01-01 00:00:00.000000177        Munich         Germany  \n",
      "\n",
      "[178 rows x 5 columns]\n",
      "weedend DataFrame:\n",
      "Empty DataFrame\n",
      "Columns: [lat, lon, date, city, country]\n",
      "Index: []\n"
     ]
    }
   ],
   "source": [
    "# Q18\n",
    "df.index = pd.to_datetime(df.index)\n",
    "weekday_index = df.index[df.index.weekday < 5] \n",
    "weekend_index = df.index[df.index.weekday >= 5]\n",
    "weekday_df = df.loc[weekday_index]\n",
    "weekend_df = df.loc[weekend_index]\n",
    "print(\"weekday DataFrame:\")\n",
    "print(weekday_df)\n",
    "print(\"weedend DataFrame:\")\n",
    "print(weekend_df)"
   ]
  },
  {
   "cell_type": "code",
   "execution_count": 49,
   "id": "c0199fb5",
   "metadata": {},
   "outputs": [
    {
     "data": {
      "image/png": "[encoded data removed]",
      "text/plain": [
       "<Figure size 1000x600 with 1 Axes>"
      ]
     },
     "metadata": {},
     "output_type": "display_data"
    }
   ],
   "source": [
    "# Q19\n",
    "import pandas as pd\n",
    "import matplotlib.pyplot as plt\n",
    "\n",
    "df.index = pd.to_datetime(df.index)\n",
    "observations_per_day = df.groupby(df.index.dayofweek).size()\n",
    "\n",
    "plt.figure(figsize=(10, 6))\n",
    "observations_per_day.plot(kind='bar', color='skyblue')\n",
    "plt.title('Number of Observations per Day of the Week')\n",
    "plt.xlabel('Day of the Week (0=Monday, 1=Tuesday, ..., 6=Sunday)')\n",
    "plt.ylabel('Number of Observations')\n",
    "plt.xticks(rotation=0)\n",
    "plt.grid(axis='y', linestyle='--', alpha=0.7)\n",
    "plt.show()"
   ]
  },
  {
   "cell_type": "code",
   "execution_count": null,
   "id": "595b6117",
   "metadata": {},
   "outputs": [],
   "source": []
  }
 ],
 "metadata": {
  "kernelspec": {
   "display_name": "Python 3 (ipykernel)",
   "language": "python",
   "name": "python3"
  },
  "language_info": {
   "codemirror_mode": {
    "name": "ipython",
    "version": 3
   },
   "file_extension": ".py",
   "mimetype": "text/x-python",
   "name": "python",
   "nbconvert_exporter": "python",
   "pygments_lexer": "ipython3",
   "version": "3.11.5"
  }
 },
 "nbformat": 4,
 "nbformat_minor": 5
}
