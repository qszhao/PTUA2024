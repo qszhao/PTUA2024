{
 "cells": [
  {
   "cell_type": "code",
   "execution_count": 9,
   "id": "59e7cbcd",
   "metadata": {},
   "outputs": [
    {
     "name": "stdout",
     "output_type": "stream",
     "text": [
      "Enter the convergence criterion (e.g., 0.01 for 1%): 0.0001\n",
      "Enter the sentinel value (maximum number of draws): 50000000\n",
      "Convergence achieved with 727 draws. Estimated Pi: 3.1416781292984868\n"
     ]
    }
   ],
   "source": [
    "import random\n",
    "import math\n",
    "\n",
    "# User inputs for convergence criterion and sentinel value\n",
    "convergence_criterion = float(input(\"Enter the convergence criterion (e.g., 0.01 for 1%): \"))\n",
    "sentinel_value = int(input(\"Enter the sentinel value (maximum number of draws): \"))\n",
    "\n",
    "pi = math.pi  # The true value of Pi for comparison\n",
    "n = 0  # Number of points inside the unit circle\n",
    "d = 0  # Total number of points generated\n",
    "ratios = []  # To store the estimates of Pi after each iteration for plotting, if needed\n",
    "\n",
    "# Simulation loop\n",
    "while True:\n",
    "    x, y = random.random(), random.random()  # Generate random point\n",
    "    if x**2 + y**2 <= 1:\n",
    "        n += 1  # Increment count of points inside the unit circle\n",
    "    d += 1  # Increment total count of points\n",
    "    estimated_pi = 4 * n / d  # Estimate of Pi\n",
    "    ratios.append(estimated_pi)  # For plotting purposes\n",
    "    \n",
    "    # Check if convergence criterion is met\n",
    "    if abs(estimated_pi - pi) / pi <= convergence_criterion:\n",
    "        print(f\"Convergence achieved with {d} draws. Estimated Pi: {estimated_pi}\")\n",
    "        break\n",
    "    # Check if sentinel value is reached\n",
    "    if d >= sentinel_value:\n",
    "        print(f\"Sentinel value reached with {d} draws. Estimated Pi: {estimated_pi}\")\n",
    "        print(f\"Percentage difference from true Pi: {abs(estimated_pi - pi) / pi * 100}%\")\n",
    "        break\n"
   ]
  },
  {
   "cell_type": "code",
   "execution_count": 11,
   "id": "2b4546f9",
   "metadata": {},
   "outputs": [
    {
     "name": "stdout",
     "output_type": "stream",
     "text": [
      "Convergence Criterion: 0.01, Average Draws: 294.50, Standard Deviation: 425.72\n",
      "Convergence Criterion: 0.001, Average Draws: 12031.20, Standard Deviation: 35729.05\n",
      "Convergence Criterion: 0.0001, Average Draws: 3085.20, Standard Deviation: 4588.12\n",
      "Convergence Criterion: 1e-05, Average Draws: 52795.00, Standard Deviation: 150229.89\n"
     ]
    }
   ],
   "source": [
    "import random\n",
    "import math\n",
    "import numpy as np\n",
    "\n",
    "# Setting different convergence criteria\n",
    "convergence_criteria = [0.01, 0.001, 0.0001, 0.00001]\n",
    "\n",
    "def estimate_pi(convergence_criterion):\n",
    "    n = 0  \n",
    "    d = 0 \n",
    "    while True:\n",
    "        x, y = random.random(), random.random()\n",
    "        if x**2 + y**2 <= 1:\n",
    "            n += 1\n",
    "        d += 1\n",
    "        pi_estimate = 4 * n / d\n",
    "        if d > 1 and abs(pi_estimate - math.pi) / math.pi < convergence_criterion:\n",
    "            break\n",
    "    return d  \n",
    "\n",
    "# main program\n",
    "for criterion in convergence_criteria:\n",
    "    draws = [estimate_pi(criterion) for _ in range(10)] \n",
    "    avg_draws = np.mean(draws)  \n",
    "    std_draws = np.std(draws)  \n",
    "    print(f\"Convergence Criterion: {criterion}, Average Draws: {avg_draws:.2f}, Standard Deviation: {std_draws:.2f}\")\n"
   ]
  }
 ],
 "metadata": {
  "kernelspec": {
   "display_name": "Python 3 (ipykernel)",
   "language": "python",
   "name": "python3"
  },
  "language_info": {
   "codemirror_mode": {
    "name": "ipython",
    "version": 3
   },
   "file_extension": ".py",
   "mimetype": "text/x-python",
   "name": "python",
   "nbconvert_exporter": "python",
   "pygments_lexer": "ipython3",
   "version": "3.9.16"
  }
 },
 "nbformat": 4,
 "nbformat_minor": 5
}
