{
 "cells": [
  {
   "cell_type": "code",
   "execution_count": 31,
   "id": "445fee00",
   "metadata": {},
   "outputs": [
    {
     "name": "stdout",
     "output_type": "stream",
     "text": [
      "Convergence criteria: 0.01\n",
      "Average number of draws: 131.2\n",
      "Standard deviation of draws: 316.4414005783693\n",
      "Convergence criteria: 0.001\n",
      "Average number of draws: 384.6\n",
      "Standard deviation of draws: 636.9369199536168\n",
      "Convergence criteria: 0.0001\n",
      "Average number of draws: 115200.9\n",
      "Standard deviation of draws: 322566.2977031078\n",
      "Convergence criteria: 1e-05\n",
      "Average number of draws: 25913.4\n",
      "Standard deviation of draws: 50731.474869552134\n"
     ]
    }
   ],
   "source": [
    "import random\n",
    "import numpy as np\n",
    "\n",
    "def monte_carlo_pi(convergence_criteria, num_draws):\n",
    "    inside_circle = 0\n",
    "    total_draws = 0\n",
    "    while True:\n",
    "        x = random.random()\n",
    "        y = random.random()\n",
    "        if x**2 + y**2 <= 1:\n",
    "            inside_circle += 1\n",
    "        total_draws += 1\n",
    "        current_pi = 4 * inside_circle / total_draws\n",
    "        if abs(current_pi - 3.141592653589793) / 3.141592653589793 <= convergence_criteria:\n",
    "            break\n",
    "    return total_draws\n",
    "\n",
    "convergence_criteria_list = [0.01, 0.001, 0.0001, 0.00001]\n",
    "num_runs = 10\n",
    "\n",
    "for convergence_criteria in convergence_criteria_list:\n",
    "    draws_required = []\n",
    "    for _ in range(num_runs):\n",
    "        draws_required.append(monte_carlo_pi(convergence_criteria, float('inf')))\n",
    "    print(f\"Convergence criteria: {convergence_criteria}\")\n",
    "    print(f\"Average number of draws: {np.mean(draws_required)}\")\n",
    "    print(f\"Standard deviation of draws: {np.std(draws_required)}\")"
   ]
  }
 ],
 "metadata": {
  "kernelspec": {
   "display_name": "Python 3 (ipykernel)",
   "language": "python",
   "name": "python3"
  },
  "language_info": {
   "codemirror_mode": {
    "name": "ipython",
    "version": 3
   },
   "file_extension": ".py",
   "mimetype": "text/x-python",
   "name": "python",
   "nbconvert_exporter": "python",
   "pygments_lexer": "ipython3",
   "version": "3.11.5"
  }
 },
 "nbformat": 4,
 "nbformat_minor": 5
}
