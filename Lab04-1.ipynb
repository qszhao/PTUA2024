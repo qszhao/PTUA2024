{
 "cells": [
  {
   "cell_type": "code",
   "execution_count": 9,
   "id": "0c4c4937",
   "metadata": {},
   "outputs": [
    {
     "name": "stdout",
     "output_type": "stream",
     "text": [
      "histogram of number of neighbours: {1: [1, 2, 4, 3, 5, 8, 15, 6, 9, 7, 14, 12, 26, 10, 20, 11, 16, 13, 19, 25, 17, 23, 24, 35, 21, 34, 22, 28, 32, 30, 29, 27, 33, 38, 37, 31, 36, 41, 42, 46, 45, 43, 39, 40, 47, 48, 49], 2: [18, 44]}\n",
      "asymmetric adjacency: [(1, 2), (2, 3), (3, 4), (5, 7), (8, 5), (15, 4), (6, 2), (9, 6), (7, 3), (14, 6), (12, 5), (26, 4), (10, 3), (20, 9), (11, 4), (16, 7), (13, 3), (19, 3), (25, 5), (17, 3), (23, 3), (18, 24), (18, 14), (24, 6), (35, 5), (21, 4), (34, 36), (22, 5), (28, 7), (32, 4), (30, 4), (29, 4), (27, 4), (33, 4), (38, 4), (37, 5), (31, 2), (36, 39), (41, 3), (42, 2), (44, 48), (44, 45), (46, 2), (45, 4), (43, 5), (39, 2), (40, 41), (47, 2), (48, 4), (49, 3)]\n"
     ]
    }
   ],
   "source": [
    "from gal import read_gal_file, create_histogram, test_asymmetries\n",
    "\n",
    "filepath = 'Lab04-1.gal'\n",
    "\n",
    "# Reading a .gal file and creating a dictionary\n",
    "gal_dict = read_gal_file(filepath)\n",
    "\n",
    "# Create a histogram of the number of neighbours\n",
    "histogram = create_histogram(gal_dict)\n",
    "print(\"histogram of number of neighbours:\", histogram)\n",
    "\n",
    "# Detecting asymmetric neighbours\n",
    "asymmetries = test_asymmetries(gal_dict)\n",
    "print(\"asymmetric adjacency:\", asymmetries)\n"
   ]
  },
  {
   "cell_type": "code",
   "execution_count": null,
   "id": "9e0f6270",
   "metadata": {},
   "outputs": [],
   "source": []
  }
 ],
 "metadata": {
  "kernelspec": {
   "display_name": "Python 3 (ipykernel)",
   "language": "python",
   "name": "python3"
  },
  "language_info": {
   "codemirror_mode": {
    "name": "ipython",
    "version": 3
   },
   "file_extension": ".py",
   "mimetype": "text/x-python",
   "name": "python",
   "nbconvert_exporter": "python",
   "pygments_lexer": "ipython3",
   "version": "3.9.16"
  }
 },
 "nbformat": 4,
 "nbformat_minor": 5
}
