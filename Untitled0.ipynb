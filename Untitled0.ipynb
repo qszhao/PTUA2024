{
  "nbformat": 4,
  "nbformat_minor": 0,
  "metadata": {
    "colab": {
      "provenance": [],
      "authorship_tag": "ABX9TyN88i7B6VknTesB3cuHSdqN",
      "include_colab_link": true
    },
    "kernelspec": {
      "name": "python3",
      "display_name": "Python 3"
    },
    "language_info": {
      "name": "python"
    }
  },
  "cells": [
    {
      "cell_type": "markdown",
      "metadata": {
        "id": "view-in-github",
        "colab_type": "text"
      },
      "source": [
        "<a href=\"https://colab.research.google.com/github/Boogli270893/PTUA2024/blob/main/Untitled0.ipynb\" target=\"_parent\"><img src=\"https://colab.research.google.com/assets/colab-badge.svg\" alt=\"Open In Colab\"/></a>"
      ]
    },
    {
      "cell_type": "code",
      "execution_count": null,
      "metadata": {
        "id": "q4SLZ2ud1WZq"
      },
      "outputs": [],
      "source": [
        "# Jupyter Notebook Examples\n",
        "\n",
        "## Writing Equation by Latex\n",
        "\n",
        "$$c = \\sqrt{a^2+b^2}$$\n",
        "\n",
        "$$f'(a) = \\lim_{x \\to a} \\frac{f(x) - f(a)}{x-a}$$\n",
        "\n",
        "## Python code\n",
        "\n",
        "import math\n",
        "a = 3\n",
        "b = 4\n",
        "\n",
        "c = math.sqrt ((a*a) + (b*b))\n",
        "\n",
        "print(c)\n",
        "\n",
        "a = 3\n",
        "b = 2\n",
        "if a>b:\n",
        "    print(a);\n",
        "else:\n",
        "    print(b);\n",
        "\n",
        "## Markdown\n",
        "\n",
        "\n",
        "| Syntax      | Description |\n",
        "| ----------- | ----------- |\n",
        "| Header      | Title       |\n",
        "| Paragraph   | Text        |\n",
        "\n",
        "| Syntax      | Description | Test Text     |\n",
        "| :---        |    :----:   |          ---: |\n",
        "| Header      | Title       | Here's this   |\n",
        "| Paragraph   | Text        | And more      |\n",
        "\n"
      ]
    }
  ]
}