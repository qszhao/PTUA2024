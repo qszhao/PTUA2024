{
 "cells": [
  {
   "cell_type": "markdown",
   "metadata": {
    "colab_type": "text",
    "deletable": true,
    "editable": true,
    "id": "fR-B9C6vw988"
   },
   "source": [
    "## A review of NumPy"
   ]
  },
  {
   "cell_type": "markdown",
   "metadata": {
    "colab_type": "text",
    "deletable": true,
    "editable": true,
    "id": "Q-LzTambcIac"
   },
   "source": [
    "Reference: https://docs.scipy.org/doc/numpy/user/quickstart.html"
   ]
  },
  {
   "cell_type": "markdown",
   "metadata": {
    "colab_type": "text",
    "deletable": true,
    "editable": true,
    "id": "zERezHrGcIad"
   },
   "source": [
    "NumPy’s main object is the homogeneous multidimensional array. It is a table of elements (usually numbers), all of the same type, indexed by a tuple of positive integers. In NumPy dimensions are called axes.\n",
    "\n",
    "For example, the coordinates of a point in 3D space [1, 2, 1] has one axis. That axis has 3 elements in it, so we say it has a length of 3. \n",
    "\n",
    "NumPy is very useful when you want to do matrix operation. "
   ]
  },
  {
   "cell_type": "markdown",
   "metadata": {
    "colab_type": "text",
    "deletable": true,
    "editable": true,
    "id": "JkEqFm8rcIae"
   },
   "source": [
    "#### Let's take a good at a few examples of numpy"
   ]
  },
  {
   "cell_type": "code",
   "execution_count": 1,
   "metadata": {
    "colab": {
     "base_uri": "https://localhost:8080/",
     "height": 34
    },
    "colab_type": "code",
    "collapsed": false,
    "deletable": true,
    "editable": true,
    "id": "OwdK5VCIcIaf",
    "outputId": "64a4ff0e-f31c-4a94-9cf0-44b31097dfbe"
   },
   "outputs": [
    {
     "name": "stdout",
     "output_type": "stream",
     "text": [
      "[7 8 9]\n"
     ]
    }
   ],
   "source": [
    "import numpy as np\n",
    "# create a numpy array\n",
    "a = np.array([7, 8, 9])\n",
    "print(a)"
   ]
  },
  {
   "cell_type": "code",
   "execution_count": 2,
   "metadata": {
    "colab": {
     "base_uri": "https://localhost:8080/",
     "height": 34
    },
    "colab_type": "code",
    "collapsed": false,
    "deletable": true,
    "editable": true,
    "id": "P10FvumGcIaj",
    "outputId": "a804718e-3df8-481c-e959-b8344c3d2834"
   },
   "outputs": [
    {
     "data": {
      "text/plain": [
       "numpy.ndarray"
      ]
     },
     "execution_count": 2,
     "metadata": {},
     "output_type": "execute_result"
    }
   ],
   "source": [
    "# type of numpy array\n",
    "type(a)"
   ]
  },
  {
   "cell_type": "code",
   "execution_count": 3,
   "metadata": {
    "colab": {
     "base_uri": "https://localhost:8080/",
     "height": 34
    },
    "colab_type": "code",
    "collapsed": false,
    "deletable": true,
    "editable": true,
    "id": "Znr_dLXMcIal",
    "outputId": "bcaefc26-e2a4-4bbb-9690-d197e6ba5cc3"
   },
   "outputs": [
    {
     "data": {
      "text/plain": [
       "(3,)"
      ]
     },
     "execution_count": 3,
     "metadata": {},
     "output_type": "execute_result"
    }
   ],
   "source": [
    "# the dimensions of the array. This is a tuple of integers indicating the size of the array in each dimension. \n",
    "# for a matrix with n rows and m columns, shape will be (n,m).\n",
    "a.shape"
   ]
  },
  {
   "cell_type": "code",
   "execution_count": 4,
   "metadata": {
    "colab": {
     "base_uri": "https://localhost:8080/",
     "height": 34
    },
    "colab_type": "code",
    "collapsed": false,
    "deletable": true,
    "editable": true,
    "id": "pQA6-SdNcIan",
    "outputId": "093c6c5b-b339-46c9-b15a-0a4f4ded4310"
   },
   "outputs": [
    {
     "data": {
      "text/plain": [
       "1"
      ]
     },
     "execution_count": 4,
     "metadata": {},
     "output_type": "execute_result"
    }
   ],
   "source": [
    "# the number of axes (dimensions) of the array\n",
    "a.ndim"
   ]
  },
  {
   "cell_type": "code",
   "execution_count": 5,
   "metadata": {
    "colab": {
     "base_uri": "https://localhost:8080/",
     "height": 34
    },
    "colab_type": "code",
    "collapsed": false,
    "deletable": true,
    "editable": true,
    "id": "Ws1nj70KcIao",
    "outputId": "3ed70b71-2935-4644-ed1a-d1d7cd8ff85d"
   },
   "outputs": [
    {
     "data": {
      "text/plain": [
       "'int64'"
      ]
     },
     "execution_count": 5,
     "metadata": {},
     "output_type": "execute_result"
    }
   ],
   "source": [
    "# the name of the type of the elements in the array\n",
    "a.dtype.name"
   ]
  },
  {
   "cell_type": "code",
   "execution_count": 6,
   "metadata": {
    "colab": {
     "base_uri": "https://localhost:8080/",
     "height": 34
    },
    "colab_type": "code",
    "collapsed": false,
    "deletable": true,
    "editable": true,
    "id": "qbcrUdtVcIar",
    "outputId": "7d86cba3-6081-4437-8bff-b9ff974594a4"
   },
   "outputs": [
    {
     "data": {
      "text/plain": [
       "8"
      ]
     },
     "execution_count": 6,
     "metadata": {},
     "output_type": "execute_result"
    }
   ],
   "source": [
    "# the size in bytes of each element of the array\n",
    "a.itemsize"
   ]
  },
  {
   "cell_type": "code",
   "execution_count": 7,
   "metadata": {
    "colab": {
     "base_uri": "https://localhost:8080/",
     "height": 34
    },
    "colab_type": "code",
    "collapsed": false,
    "deletable": true,
    "editable": true,
    "id": "NIbkAGP8cIas",
    "outputId": "3ee3b62d-c641-45f2-c40e-b507696210f2"
   },
   "outputs": [
    {
     "data": {
      "text/plain": [
       "3"
      ]
     },
     "execution_count": 7,
     "metadata": {},
     "output_type": "execute_result"
    }
   ],
   "source": [
    "# the total number of elements of the array\n",
    "a.size"
   ]
  },
  {
   "cell_type": "markdown",
   "metadata": {
    "colab_type": "text",
    "deletable": true,
    "editable": true,
    "id": "tmPvjiCAcIau"
   },
   "source": [
    "#### Basic Operations: \n",
    "\n",
    "**1. create a numpy array:**\n",
    "*   **arange(m,n)**: A one dimensional array starting from m, ending in n-1\n",
    "*   **array()**: Create an array from a list\n",
    "\n",
    "\n",
    "   \n",
    "**2. mathematical operations:** Use +, -, *, just as you do for operations of numbers\n",
    "\n",
    "**3. element-wise product:** A*B\n",
    "\n",
    "**4. matrix product:** A.dot(B) or A@B\n",
    "\n",
    "See below examples."
   ]
  },
  {
   "cell_type": "code",
   "execution_count": 9,
   "metadata": {
    "colab": {
     "base_uri": "https://localhost:8080/",
     "height": 34
    },
    "colab_type": "code",
    "collapsed": false,
    "deletable": true,
    "editable": true,
    "id": "y9xlAq2scIav",
    "outputId": "71714bea-6417-4a93-f41f-1cc904f37676"
   },
   "outputs": [
    {
     "name": "stdout",
     "output_type": "stream",
     "text": [
      "[ 5 20 50 60]\n",
      "[2 3 4 5]\n"
     ]
    }
   ],
   "source": [
    "# Create a new numpy array.\n",
    "a = np.array( [5,20,50,60] )  # create a numpy array from a list\n",
    "b = np.arange(2, 6)  # arange(m,n): set a range starting from m (2 in this case), ending with n-1 (6-1 in this case) \n",
    "print(a)\n",
    "print(b)"
   ]
  },
  {
   "cell_type": "code",
   "execution_count": 10,
   "metadata": {
    "colab": {
     "base_uri": "https://localhost:8080/",
     "height": 34
    },
    "colab_type": "code",
    "collapsed": false,
    "deletable": true,
    "editable": true,
    "id": "9755JfB0cIa2",
    "outputId": "40949900-dd20-4392-ae49-f7f5583b4e74"
   },
   "outputs": [
    {
     "name": "stdout",
     "output_type": "stream",
     "text": [
      "[ 3 17 46 55]\n"
     ]
    }
   ],
   "source": [
    "# minus when two numpy arrays have the same dimension\n",
    "c = a-b \n",
    "print(c)"
   ]
  },
  {
   "cell_type": "code",
   "execution_count": 11,
   "metadata": {
    "colab": {
     "base_uri": "https://localhost:8080/",
     "height": 34
    },
    "colab_type": "code",
    "collapsed": false,
    "deletable": true,
    "editable": true,
    "id": "LHfDY-RpcIa5",
    "outputId": "029f5d11-ca08-4ff4-c5d9-5590f2e1485b"
   },
   "outputs": [
    {
     "data": {
      "text/plain": [
       "array([ 4,  9, 16, 25])"
      ]
     },
     "execution_count": 11,
     "metadata": {},
     "output_type": "execute_result"
    }
   ],
   "source": [
    "# take the square of each element in the array\n",
    "b**2"
   ]
  },
  {
   "cell_type": "code",
   "execution_count": 12,
   "metadata": {
    "colab": {
     "base_uri": "https://localhost:8080/",
     "height": 51
    },
    "colab_type": "code",
    "collapsed": false,
    "deletable": true,
    "editable": true,
    "id": "gqDKlLiccIa7",
    "outputId": "9a22ed24-3bbf-4363-a96f-8023f2dd2527"
   },
   "outputs": [
    {
     "name": "stdout",
     "output_type": "stream",
     "text": [
      "[-0.95892427  0.91294525 -0.26237485 -0.30481062]\n",
      "[-9.58924275  9.12945251 -2.62374854 -3.04810621]\n"
     ]
    }
   ],
   "source": [
    "# product\n",
    "\n",
    "10*np.sin(a) # take the sin() of each element in the array and then time each by 10\n",
    "print(np.sin(a))\n",
    "print(10*np.sin(a))"
   ]
  },
  {
   "cell_type": "code",
   "execution_count": 13,
   "metadata": {
    "colab": {
     "base_uri": "https://localhost:8080/",
     "height": 34
    },
    "colab_type": "code",
    "collapsed": false,
    "deletable": true,
    "editable": true,
    "id": "24GW-26PcIa9",
    "outputId": "c2a7bbdd-577c-4fd9-f513-fed63f830d51"
   },
   "outputs": [
    {
     "data": {
      "text/plain": [
       "array([ True,  True, False, False])"
      ]
     },
     "execution_count": 13,
     "metadata": {},
     "output_type": "execute_result"
    }
   ],
   "source": [
    "# true or false\n",
    "a < 35 # compare each element in a with 35"
   ]
  },
  {
   "cell_type": "markdown",
   "metadata": {
    "colab_type": "text",
    "deletable": true,
    "editable": true,
    "id": "IRcG9G5RcIa_"
   },
   "source": [
    "Unlike in many matrix languages, the product operator * operates elementwise in NumPy arrays. The matrix product can be performed using the @ operator (in python >=3.5) or the dot function or method.\n",
    "\n",
    "#### Element-wise Product\n",
    "\n",
    "![alt text](http://www.public.asu.edu/~wenwenl1/gis322o/images/dot_product.png)\n",
    "\n"
   ]
  },
  {
   "cell_type": "code",
   "execution_count": 14,
   "metadata": {
    "colab": {},
    "colab_type": "code",
    "collapsed": true,
    "deletable": true,
    "editable": true,
    "id": "1YJNMADncIbA"
   },
   "outputs": [],
   "source": [
    "A = np.array( [[1,0],\n",
    "               [1,2]] )\n",
    "B = np.array( [[3,0],\n",
    "               [2,4]] )"
   ]
  },
  {
   "cell_type": "code",
   "execution_count": 15,
   "metadata": {
    "colab": {
     "base_uri": "https://localhost:8080/",
     "height": 71
    },
    "colab_type": "code",
    "collapsed": false,
    "deletable": true,
    "editable": true,
    "id": "tnr_sgP7cIbC",
    "outputId": "cf3a30fa-baa3-479c-edb7-fd762075fab1"
   },
   "outputs": [
    {
     "data": {
      "text/plain": [
       "array([[3, 0],\n",
       "       [2, 8]])"
      ]
     },
     "execution_count": 15,
     "metadata": {},
     "output_type": "execute_result"
    }
   ],
   "source": [
    "# elementwise product\n",
    "A * B    "
   ]
  },
  {
   "cell_type": "markdown",
   "metadata": {
    "colab_type": "text",
    "deletable": true,
    "editable": true,
    "id": "EBQbOFVAbI7R"
   },
   "source": [
    "#### Matrix product:\n",
    "\n",
    "\n",
    "![alt text](http://www.public.asu.edu/~wenwenl1/gis322o/images/matrix_product.png)"
   ]
  },
  {
   "cell_type": "code",
   "execution_count": 17,
   "metadata": {
    "colab": {
     "base_uri": "https://localhost:8080/",
     "height": 71
    },
    "colab_type": "code",
    "collapsed": false,
    "deletable": true,
    "editable": true,
    "id": "7_MHEL9BcIbF",
    "outputId": "120d6f91-95b5-4948-abf6-d95698309288"
   },
   "outputs": [
    {
     "data": {
      "text/plain": [
       "array([[3, 0],\n",
       "       [7, 8]])"
      ]
     },
     "execution_count": 17,
     "metadata": {},
     "output_type": "execute_result"
    }
   ],
   "source": [
    "# matrix product\n",
    "A @ B"
   ]
  },
  {
   "cell_type": "code",
   "execution_count": 18,
   "metadata": {
    "colab": {
     "base_uri": "https://localhost:8080/",
     "height": 71
    },
    "colab_type": "code",
    "collapsed": false,
    "deletable": true,
    "editable": true,
    "id": "t3390T86cIbH",
    "outputId": "aa5933d8-72a6-47a6-f1b6-3b1eb7febbd0"
   },
   "outputs": [
    {
     "data": {
      "text/plain": [
       "array([[3, 0],\n",
       "       [7, 8]])"
      ]
     },
     "execution_count": 18,
     "metadata": {},
     "output_type": "execute_result"
    }
   ],
   "source": [
    "# matrix product, equaivalent to A@B\n",
    "A.dot(B) "
   ]
  },
  {
   "cell_type": "markdown",
   "metadata": {
    "colab_type": "text",
    "deletable": true,
    "editable": true,
    "id": "42DmkuTGcIbJ"
   },
   "source": [
    "**Create new matrix by defining its dimensions**\n",
    "\n",
    "1. **np.ones((m,n))**: create all one matrix which has dimensions of m rows and n columns\n",
    "\n",
    "2. **np.random.random((m,n))**: randomly generate a matrix which has dimensions of m rows and n columns with values within range of (0,1)\n",
    "\n"
   ]
  },
  {
   "cell_type": "code",
   "execution_count": 20,
   "metadata": {
    "colab": {
     "base_uri": "https://localhost:8080/",
     "height": 105
    },
    "colab_type": "code",
    "collapsed": false,
    "deletable": true,
    "editable": true,
    "id": "HOkmJDDwcIbK",
    "outputId": "63ced55a-0a69-44ae-8b5f-9e57c0205a31"
   },
   "outputs": [
    {
     "name": "stdout",
     "output_type": "stream",
     "text": [
      "[[1 1 1]\n",
      " [1 1 1]]\n",
      "[[0.68266635 0.38603251 0.52126852]\n",
      " [0.21463546 0.68405046 0.06726782]]\n"
     ]
    }
   ],
   "source": [
    "a = np.ones((2,3), dtype=int) # create all one matrix which has dimensions of 3 rows and 2 columns\n",
    "b = np.random.random((2,3)) # randomly generate a matrix which has dimensions of 3 rows and 2 columns with values within range of (0,1)\n",
    "\n",
    "print(a)\n",
    "print(b)"
   ]
  },
  {
   "cell_type": "markdown",
   "metadata": {
    "colab_type": "text",
    "deletable": true,
    "editable": true,
    "id": "m7g2EMvZctJS"
   },
   "source": [
    " **Some operations, such as += and *=, act in place to modify an existing array rather than create a new one.**\n"
   ]
  },
  {
   "cell_type": "code",
   "execution_count": 21,
   "metadata": {
    "colab": {
     "base_uri": "https://localhost:8080/",
     "height": 71
    },
    "colab_type": "code",
    "collapsed": false,
    "deletable": true,
    "editable": true,
    "id": "5_Fpos-fcIbN",
    "outputId": "0653bd7b-3eb3-4a20-b30e-68c1c9c50162"
   },
   "outputs": [
    {
     "data": {
      "text/plain": [
       "array([[3, 3, 3],\n",
       "       [3, 3, 3]])"
      ]
     },
     "execution_count": 21,
     "metadata": {},
     "output_type": "execute_result"
    }
   ],
   "source": [
    "a *= 3\n",
    "a"
   ]
  },
  {
   "cell_type": "code",
   "execution_count": 22,
   "metadata": {
    "colab": {
     "base_uri": "https://localhost:8080/",
     "height": 71
    },
    "colab_type": "code",
    "collapsed": false,
    "deletable": true,
    "editable": true,
    "id": "x8NNJieJcIbR",
    "outputId": "f7b2fbe1-a7a6-45e8-834b-0211650dc5c3"
   },
   "outputs": [
    {
     "data": {
      "text/plain": [
       "array([[3.68266635, 3.38603251, 3.52126852],\n",
       "       [3.21463546, 3.68405046, 3.06726782]])"
      ]
     },
     "execution_count": 22,
     "metadata": {},
     "output_type": "execute_result"
    }
   ],
   "source": [
    "b += a\n",
    "b"
   ]
  },
  {
   "cell_type": "markdown",
   "metadata": {
    "colab_type": "text",
    "deletable": true,
    "editable": true,
    "id": "vvpSJKAhcIbY"
   },
   "source": [
    "**Many unary operations, such as computing the sum of all the elements in the array, are implemented as methods of the ndarray class.**\n",
    "\n",
    "**sum()**: get the summation of all elements in the matrix\n",
    "\n",
    "**max()**: get the maximum value within the matrix\n",
    "\n",
    "**min(**): get the minimum value within the matrix"
   ]
  },
  {
   "cell_type": "code",
   "execution_count": 23,
   "metadata": {
    "colab": {
     "base_uri": "https://localhost:8080/",
     "height": 173
    },
    "colab_type": "code",
    "collapsed": false,
    "deletable": true,
    "editable": true,
    "id": "yGu2WGFlcIbZ",
    "outputId": "0960a19b-e636-4023-d8d8-391a22a885e5"
   },
   "outputs": [
    {
     "data": {
      "text/plain": [
       "array([[0.82567349, 0.01176211, 0.31323152, 0.65362447, 0.20133268,\n",
       "        0.3520324 , 0.40625607, 0.02531449],\n",
       "       [0.59836366, 0.77457429, 0.73071802, 0.6347777 , 0.60584934,\n",
       "        0.06769974, 0.6072399 , 0.06372442],\n",
       "       [0.37573617, 0.03263254, 0.35797465, 0.18766636, 0.98516031,\n",
       "        0.09494423, 0.02800949, 0.61072826],\n",
       "       [0.09401638, 0.4638081 , 0.61070085, 0.82736841, 0.55287395,\n",
       "        0.2339517 , 0.48818513, 0.76049571]])"
      ]
     },
     "execution_count": 23,
     "metadata": {},
     "output_type": "execute_result"
    }
   ],
   "source": [
    "a = np.random.random((4,8))\n",
    "a"
   ]
  },
  {
   "cell_type": "code",
   "execution_count": 24,
   "metadata": {
    "colab": {
     "base_uri": "https://localhost:8080/",
     "height": 54
    },
    "colab_type": "code",
    "collapsed": false,
    "deletable": true,
    "editable": true,
    "id": "F5huvQHpcIbb",
    "outputId": "e69ab3a4-7285-419f-daec-d55b6c61753b"
   },
   "outputs": [
    {
     "data": {
      "text/plain": [
       "13.576426572923669"
      ]
     },
     "execution_count": 24,
     "metadata": {},
     "output_type": "execute_result"
    }
   ],
   "source": [
    "a.sum()"
   ]
  },
  {
   "cell_type": "code",
   "execution_count": 25,
   "metadata": {
    "colab": {
     "base_uri": "https://localhost:8080/",
     "height": 54
    },
    "colab_type": "code",
    "collapsed": false,
    "deletable": true,
    "editable": true,
    "id": "3O0muogycIbe",
    "outputId": "b33cba17-9ad7-45b8-f448-2d6c16ff0d7c"
   },
   "outputs": [
    {
     "data": {
      "text/plain": [
       "0.011762111994629731"
      ]
     },
     "execution_count": 25,
     "metadata": {},
     "output_type": "execute_result"
    }
   ],
   "source": [
    "a.min()"
   ]
  },
  {
   "cell_type": "code",
   "execution_count": 26,
   "metadata": {
    "colab": {
     "base_uri": "https://localhost:8080/",
     "height": 54
    },
    "colab_type": "code",
    "collapsed": false,
    "deletable": true,
    "editable": true,
    "id": "ojK8y0HGcIbh",
    "outputId": "e4a576b8-4e51-4cc3-9f0a-c2cbe3927404"
   },
   "outputs": [
    {
     "data": {
      "text/plain": [
       "0.9851603137845473"
      ]
     },
     "execution_count": 26,
     "metadata": {},
     "output_type": "execute_result"
    }
   ],
   "source": [
    "a.max()"
   ]
  },
  {
   "cell_type": "markdown",
   "metadata": {
    "colab_type": "text",
    "deletable": true,
    "editable": true,
    "id": "FMbYiZ5ncIbk"
   },
   "source": [
    "**By default, these operations apply to the array as though it were a list of numbers, regardless of its shape. However, by specifying the axis parameter you can apply an operation along the specified axis of an array:**"
   ]
  },
  {
   "cell_type": "code",
   "execution_count": 37,
   "metadata": {
    "colab": {
     "base_uri": "https://localhost:8080/",
     "height": 88
    },
    "colab_type": "code",
    "collapsed": false,
    "deletable": true,
    "editable": true,
    "id": "N67WMV8CcIbl",
    "outputId": "99fff395-72c6-4220-8035-83c72807385d"
   },
   "outputs": [
    {
     "data": {
      "text/plain": [
       "array([[ 0,  1,  2,  3],\n",
       "       [ 4,  5,  6,  7],\n",
       "       [ 8,  9, 10, 11]])"
      ]
     },
     "execution_count": 37,
     "metadata": {},
     "output_type": "execute_result"
    }
   ],
   "source": [
    "b = np.arange(12).reshape(3,4) # reshape the one dimensional array a matrix with three rows and four columns\n",
    "b"
   ]
  },
  {
   "cell_type": "code",
   "execution_count": 38,
   "metadata": {
    "colab": {
     "base_uri": "https://localhost:8080/",
     "height": 54
    },
    "colab_type": "code",
    "collapsed": false,
    "deletable": true,
    "editable": true,
    "id": "m60GONTicIbo",
    "outputId": "5dbe8b2b-1b65-497e-a1f8-0c3feb3def79"
   },
   "outputs": [
    {
     "data": {
      "text/plain": [
       "array([12, 15, 18, 21])"
      ]
     },
     "execution_count": 38,
     "metadata": {},
     "output_type": "execute_result"
    }
   ],
   "source": [
    "# sum of each column (axis = 0)\n",
    "b.sum(axis=0)"
   ]
  },
  {
   "cell_type": "code",
   "execution_count": 39,
   "metadata": {
    "colab": {
     "base_uri": "https://localhost:8080/",
     "height": 54
    },
    "colab_type": "code",
    "collapsed": false,
    "deletable": true,
    "editable": true,
    "id": "nhpHUGPAcIbq",
    "outputId": "fa57bc8e-7a9c-4cd6-f076-7952ea022e29"
   },
   "outputs": [
    {
     "data": {
      "text/plain": [
       "array([0, 4, 8])"
      ]
     },
     "execution_count": 39,
     "metadata": {},
     "output_type": "execute_result"
    }
   ],
   "source": [
    "# min of each row (axis = 1)\n",
    "b.min(axis=1) "
   ]
  },
  {
   "cell_type": "code",
   "execution_count": 40,
   "metadata": {
    "colab": {
     "base_uri": "https://localhost:8080/",
     "height": 88
    },
    "colab_type": "code",
    "collapsed": false,
    "deletable": true,
    "editable": true,
    "id": "VVRF5fZ8cIbt",
    "outputId": "1da7b34d-e358-432e-9098-bd99504a6fb4"
   },
   "outputs": [
    {
     "data": {
      "text/plain": [
       "array([[ 0,  1,  3,  6],\n",
       "       [ 4,  9, 15, 22],\n",
       "       [ 8, 17, 27, 38]])"
      ]
     },
     "execution_count": 40,
     "metadata": {},
     "output_type": "execute_result"
    }
   ],
   "source": [
    "# cumulative sum along each row\n",
    "b.cumsum(axis=1)  "
   ]
  }
 ],
 "metadata": {
  "colab": {
   "collapsed_sections": [
    "IRcG9G5RcIa_",
    "EBQbOFVAbI7R"
   ],
   "include_colab_link": true,
   "name": "01_Module01c_numpy.ipynb",
   "provenance": [],
   "toc_visible": true
  },
  "kernelspec": {
   "display_name": "Python 3",
   "language": "python",
   "name": "python3"
  },
  "language_info": {
   "codemirror_mode": {
    "name": "ipython",
    "version": 3
   },
   "file_extension": ".py",
   "mimetype": "text/x-python",
   "name": "python",
   "nbconvert_exporter": "python",
   "pygments_lexer": "ipython3",
   "version": "3.6.8"
  }
 },
 "nbformat": 4,
 "nbformat_minor": 0
}
