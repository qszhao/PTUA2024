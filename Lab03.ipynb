{
 "cells": [
  {
   "cell_type": "code",
   "execution_count": 21,
   "id": "0b4c4669",
   "metadata": {
    "scrolled": true
   },
   "outputs": [
    {
     "name": "stdout",
     "output_type": "stream",
     "text": [
      "523.5987755982989\n"
     ]
    }
   ],
   "source": [
    "import math\n",
    "\n",
    "def volume(radius):\n",
    "    j = math.pi\n",
    "    x = (4/3) * j * (radius ** 3)\n",
    "    print(x)\n",
    "\n",
    "volume(5)"
   ]
  },
  {
   "cell_type": "code",
   "execution_count": 22,
   "id": "edac86bb",
   "metadata": {},
   "outputs": [
    {
     "name": "stdout",
     "output_type": "stream",
     "text": [
      "945.4499999999999\n"
     ]
    }
   ],
   "source": [
    "def total_cost(x):\n",
    "    a = cover_price = 24.95\n",
    "    b = discount_percentage = 40\n",
    "    c = cost_first_copy = 3\n",
    "    d = cost_additional_copy = 0.75 \n",
    "    j = discount= (b/100) * a \n",
    "    k = cover_cost = a - j\n",
    "    total_cost = (x * k + c +(x -1) * d)\n",
    "    print(total_cost)\n",
    "\n",
    "total_cost(60)"
   ]
  },
  {
   "cell_type": "code",
   "execution_count": 23,
   "id": "2700b5ef",
   "metadata": {
    "scrolled": false
   },
   "outputs": [
    {
     "name": "stdout",
     "output_type": "stream",
     "text": [
      "end_time: 20:58:00\n"
     ]
    }
   ],
   "source": [
    "from datetime import datetime, timedelta\n",
    "\n",
    "esay_pace_time = 8 * 60 + 15\n",
    "tempo_pace_time = 7 * 60 + 12\n",
    "start_time= datetime.strptime(\"6:52:00\", \"%H:%M:%S\")\n",
    "total_time = timedelta(minutes = 2 * esay_pace_time + 3 * tempo_pace_time)\n",
    "end_time= start_time + total_time\n",
    "\n",
    "print(\"end_time:\", end_time.strftime(\"%H:%M:%S\"))"
   ]
  },
  {
   "cell_type": "code",
   "execution_count": 24,
   "id": "499993d7",
   "metadata": {
    "scrolled": true
   },
   "outputs": [
    {
     "name": "stdout",
     "output_type": "stream",
     "text": [
      "3\n"
     ]
    }
   ],
   "source": [
    "word = 'banana'\n",
    "count = 0\n",
    "for letter in word:\n",
    "    if letter == 'a':\n",
    "        count = count + 1\n",
    "print(count)"
   ]
  },
  {
   "cell_type": "code",
   "execution_count": 25,
   "id": "ae873a88",
   "metadata": {},
   "outputs": [
    {
     "name": "stdout",
     "output_type": "stream",
     "text": [
      "True\n"
     ]
    }
   ],
   "source": [
    "def is_palindrome(word):\n",
    "    return word == word[::-1]\n",
    "\n",
    "result = is_palindrome('radar')\n",
    "print(result)\n"
   ]
  },
  {
   "cell_type": "code",
   "execution_count": 26,
   "id": "6e0720b4",
   "metadata": {},
   "outputs": [],
   "source": [
    "def any_lowercase1(s):\n",
    "    for c in s:\n",
    "        if c.islower():\n",
    "            return True\n",
    "    return False\n",
    "\n",
    "def any_lowercase2(s):\n",
    "    for c in s:\n",
    "        if c.islower():\n",
    "            return True\n",
    "    return False\n",
    "\n",
    "def any_lowercase3(s):\n",
    "    flag = False\n",
    "    for c in s:\n",
    "        flag = c.islower()\n",
    "    return flag\n",
    "\n",
    "def any_lowercase4(s):\n",
    "    flag = False\n",
    "    for c in s:\n",
    "        flag = flag or c.islower()\n",
    "    return flag\n",
    "\n",
    "def any_lowercase5(s):\n",
    "    for c in s:\n",
    "        if not c.islower():\n",
    "            return False\n",
    "    return True\n"
   ]
  },
  {
   "cell_type": "code",
   "execution_count": 27,
   "id": "dba23f06",
   "metadata": {},
   "outputs": [],
   "source": [
    "def rotate_word(word, shift):\n",
    "    result = \"\"\n",
    "    for char in word:\n",
    "        if char.isalpha():\n",
    "            start = ord('a') if char.islower() else ord('A')\n",
    "            rotated_char = chr((ord(char) - start + shift) % 26 + start)\n",
    "            result += rotated_char\n",
    "        else:\n",
    "            result += char  \n",
    "    return result\n"
   ]
  },
  {
   "cell_type": "code",
   "execution_count": null,
   "id": "74f16f67",
   "metadata": {},
   "outputs": [],
   "source": [
    "import random\n",
    "import math\n",
    "\n",
    "class MonteCarloPiSimulation:\n",
    "    def __init__(self, convergence_criteria, sentinel_value):\n",
    "        self.convergence_criteria = convergence_criteria\n",
    "        self.sentinel_value = sentinel_value\n",
    "\n",
    "    def estimate_pi(self):\n",
    "        inside_circle = 0\n",
    "        total_points = 0\n",
    "        pi_values = []\n",
    "\n",
    "        while total_points < self.sentinel_value:\n",
    "            x = random.uniform(0, 1)\n",
    "            y = random.uniform(0, 1)\n",
    "\n",
    "            distance = math.sqrt(x**2 + y**2)\n",
    "\n",
    "            if distance <= 1:\n",
    "                inside_circle += 1\n",
    "\n",
    "            total_points += 1\n",
    "\n",
    "            current_pi = (inside_circle / total_points) * 4\n",
    "            pi_values.append(current_pi)\n",
    "\n",
    "            percent_difference = abs(current_pi - math.pi) / math.pi * 100\n",
    "\n",
    "            if percent_difference < self.convergence_criteria:\n",
    "                print(f\"Convergence criteria met. Estimated Pi: {current_pi}\")\n",
    "                break\n",
    "\n",
    "        return pi_values"
   ]
  },
  {
   "cell_type": "code",
   "execution_count": null,
   "id": "062af223",
   "metadata": {},
   "outputs": [],
   "source": [
    "import random\n",
    "import math\n",
    "import statistics\n",
    "\n",
    "class MonteCarloPiSimulation:\n",
    "    def __init__(self, convergence_criteria):\n",
    "        self.convergence_criteria = convergence_criteria\n",
    "\n",
    "    def estimate_pi(self):\n",
    "        inside_circle = 0\n",
    "        total_points = 0\n",
    "        pi_values = []\n",
    "\n",
    "        while True:\n",
    "            x = random.uniform(0, 1)\n",
    "            y = random.uniform(0, 1)\n",
    "\n",
    "            distance = math.sqrt(x**2 + y**2)\n",
    "\n",
    "            if distance <= 1:\n",
    "                inside_circle += 1\n",
    "\n",
    "            total_points += 1\n",
    "\n",
    "            current_pi = (inside_circle / total_points) * 4\n",
    "            pi_values.append(current_pi)\n",
    "\n",
    "            percent_difference = abs(current_pi - math.pi) / math.pi * 100\n",
    "\n",
    "            if percent_difference < self.convergence_criteria:\n",
    "                break\n",
    "\n",
    "        return total_points\n",
    "\n",
    "convergence_criteria_values = [0.01, 0.001, 0.0001, 0.00001]\n",
    "\n",
    "for convergence_criteria in convergence_criteria_values:\n",
    "    draws = []\n",
    "    for _ in range(10):\n",
    "        monte_carlo_sim = MonteCarloPiSimulation(convergence_criteria)\n",
    "        total_points = monte_carlo_sim.estimate_pi()\n",
    "        draws.append(total_points)\n",
    "\n",
    "    average_draws = sum(draws) / len(draws)\n",
    "    std_deviation_draws = statistics.stdev(draws)\n"
   ]
  },
  {
   "cell_type": "code",
   "execution_count": null,
   "id": "02f50ad4",
   "metadata": {},
   "outputs": [],
   "source": []
  }
 ],
 "metadata": {
  "kernelspec": {
   "display_name": "Python 3 (ipykernel)",
   "language": "python",
   "name": "python3"
  },
  "language_info": {
   "codemirror_mode": {
    "name": "ipython",
    "version": 3
   },
   "file_extension": ".py",
   "mimetype": "text/x-python",
   "name": "python",
   "nbconvert_exporter": "python",
   "pygments_lexer": "ipython3",
   "version": "3.11.5"
  }
 },
 "nbformat": 4,
 "nbformat_minor": 5
}
