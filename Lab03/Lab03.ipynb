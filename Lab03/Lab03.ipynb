{
 "cells": [
  {
   "cell_type": "markdown",
   "id": "3f78a59e",
   "metadata": {},
   "source": [
    "# Lab 3"
   ]
  },
  {
   "cell_type": "markdown",
   "id": "5993feb2",
   "metadata": {},
   "source": [
    "## Chapter Two\n",
    "\n",
    "### Exercise 1"
   ]
  },
  {
   "cell_type": "code",
   "execution_count": 63,
   "id": "6e4d6c37",
   "metadata": {},
   "outputs": [],
   "source": [
    "n = 42"
   ]
  },
  {
   "cell_type": "code",
   "execution_count": 1,
   "id": "05c92f1c",
   "metadata": {},
   "outputs": [
    {
     "ename": "SyntaxError",
     "evalue": "cannot assign to literal here. Maybe you meant '==' instead of '='? (3090476294.py, line 1)",
     "output_type": "error",
     "traceback": [
      "\u001b[1;36m  Cell \u001b[1;32mIn[1], line 1\u001b[1;36m\u001b[0m\n\u001b[1;33m    42 = n\u001b[0m\n\u001b[1;37m    ^\u001b[0m\n\u001b[1;31mSyntaxError\u001b[0m\u001b[1;31m:\u001b[0m cannot assign to literal here. Maybe you meant '==' instead of '='?\n"
     ]
    }
   ],
   "source": [
    "42 = n"
   ]
  },
  {
   "cell_type": "code",
   "execution_count": 3,
   "id": "810c943a",
   "metadata": {},
   "outputs": [],
   "source": [
    "x = y = 1"
   ]
  },
  {
   "cell_type": "code",
   "execution_count": null,
   "id": "636d25a8",
   "metadata": {},
   "outputs": [],
   "source": []
  },
  {
   "cell_type": "code",
   "execution_count": null,
   "id": "a92dfd78",
   "metadata": {},
   "outputs": [],
   "source": []
  },
  {
   "cell_type": "code",
   "execution_count": 4,
   "id": "7dd64f67",
   "metadata": {},
   "outputs": [],
   "source": [
    "n = 17;"
   ]
  },
  {
   "cell_type": "code",
   "execution_count": 5,
   "id": "77cf0fc2",
   "metadata": {},
   "outputs": [],
   "source": [
    "n = 17."
   ]
  },
  {
   "cell_type": "code",
   "execution_count": 7,
   "id": "e5d69baa",
   "metadata": {},
   "outputs": [
    {
     "ename": "NameError",
     "evalue": "name 'xy' is not defined",
     "output_type": "error",
     "traceback": [
      "\u001b[1;31m---------------------------------------------------------------------------\u001b[0m",
      "\u001b[1;31mNameError\u001b[0m                                 Traceback (most recent call last)",
      "Cell \u001b[1;32mIn[7], line 1\u001b[0m\n\u001b[1;32m----> 1\u001b[0m xy\n",
      "\u001b[1;31mNameError\u001b[0m: name 'xy' is not defined"
     ]
    }
   ],
   "source": [
    "xy"
   ]
  },
  {
   "cell_type": "markdown",
   "id": "fa757714",
   "metadata": {},
   "source": [
    "### Exercise 2"
   ]
  },
  {
   "cell_type": "code",
   "execution_count": 47,
   "id": "04d8ed23",
   "metadata": {},
   "outputs": [
    {
     "name": "stdout",
     "output_type": "stream",
     "text": [
      "523.5987755982989\n"
     ]
    }
   ],
   "source": [
    "#calculate the volume of a sphere with radius = 5\n",
    "\n",
    "import math\n",
    "\n",
    "def calculate_volume(radius=5):\n",
    "    v = (4/3) * math.pi * (radius ** 3)\n",
    "    print(v)\n",
    "calculate_volume()"
   ]
  },
  {
   "cell_type": "code",
   "execution_count": 60,
   "id": "a2027861",
   "metadata": {},
   "outputs": [
    {
     "name": "stdout",
     "output_type": "stream",
     "text": [
      "The total wholesale cost for 60 copies is $62.22\n"
     ]
    }
   ],
   "source": [
    "# Given values\n",
    "cover_price = 24.95  # in dollars\n",
    "discount_percentage = 40  # percentage\n",
    "shipping_cost_first_copy = 3  # in dollars\n",
    "shipping_cost_additional_copy = 0.75  # in dollars\n",
    "number_of_copies = 60\n",
    "\n",
    "# Calculate the discounted price per copy\n",
    "discounted_price_per_copy = cover_price - (cover_price * (discount_percentage / 100))\n",
    "\n",
    "# Calculate the total cost for 60 copies\n",
    "total_cost = (discounted_price_per_copy + shipping_cost_first_copy +\n",
    "              (number_of_copies - 1) * shipping_cost_additional_copy)\n",
    "\n",
    "print(f'The total wholesale cost for {number_of_copies} copies is ${total_cost}')\n"
   ]
  },
  {
   "cell_type": "code",
   "execution_count": 62,
   "id": "d6f8ef96",
   "metadata": {},
   "outputs": [
    {
     "name": "stdout",
     "output_type": "stream",
     "text": [
      "You will arrive home for breakfast at 6:90 am.\n"
     ]
    }
   ],
   "source": [
    "# Given information\n",
    "start_time_hours = 6\n",
    "start_time_minutes = 52\n",
    "\n",
    "easy_pace_minutes_per_mile = 8 + 15/60\n",
    "tempo_pace_minutes_per_mile = 7 + 12/60\n",
    "\n",
    "# Calculate total time in minutes\n",
    "total_time_minutes = 2 * easy_pace_minutes_per_mile + 3 * tempo_pace_minutes_per_mile\n",
    "\n",
    "# Calculate hours and minutes for the total time\n",
    "total_hours = total_time_minutes // 60\n",
    "total_minutes = total_time_minutes % 60\n",
    "\n",
    "# Calculate the arrival time for breakfast\n",
    "arrival_time_hours = start_time_hours + total_hours\n",
    "arrival_time_minutes = start_time_minutes + total_minutes\n",
    "\n",
    "# Display the results\n",
    "print(f\"You will arrive home for breakfast at {int(arrival_time_hours)}:{int(arrival_time_minutes)} am.\")\n"
   ]
  },
  {
   "cell_type": "markdown",
   "id": "ef8a0a89",
   "metadata": {},
   "source": [
    "### Exercise 3"
   ]
  },
  {
   "cell_type": "code",
   "execution_count": 64,
   "id": "c144b5c2",
   "metadata": {},
   "outputs": [
    {
     "name": "stdout",
     "output_type": "stream",
     "text": [
      "The number of occurrences of 'a' in 'banana' is: 3\n"
     ]
    }
   ],
   "source": [
    "word = 'banana'\n",
    "count_of_a = word.count('a')\n",
    "\n",
    "print(f\"The number of occurrences of 'a' in 'banana' is: {count_of_a}\")"
   ]
  },
  {
   "cell_type": "code",
   "execution_count": 71,
   "id": "19960cc4",
   "metadata": {},
   "outputs": [
    {
     "name": "stdout",
     "output_type": "stream",
     "text": [
      "ananab\n"
     ]
    }
   ],
   "source": [
    "def is_palindrome(word):\n",
    "    return word == word[::-1]\n",
    "print(word[::-1])"
   ]
  },
  {
   "cell_type": "markdown",
   "id": "1d23f113",
   "metadata": {},
   "source": [
    "### Exercise 4"
   ]
  },
  {
   "cell_type": "code",
   "execution_count": 3,
   "id": "b4a6d56c",
   "metadata": {},
   "outputs": [],
   "source": [
    "def any_lowercase1(s):\n",
    "    for c in s:\n",
    "        if c.islower():\n",
    "            return True\n",
    "        else:\n",
    "            return False\n",
    "        \n",
    "# What this function actually does (WRONG) - This function only checks the lowercase status of the first character in the string. \n",
    "                                    #It will return True if the first character is lowercase and False otherwise. \n",
    "                                    #It does not correctly iterate through all characters in the string."
   ]
  },
  {
   "cell_type": "code",
   "execution_count": 4,
   "id": "663f1ba9",
   "metadata": {},
   "outputs": [],
   "source": [
    "def any_lowercase2(s):\n",
    "    for c in s:\n",
    "        if 'c'.islower():\n",
    "            return 'True'\n",
    "        else:\n",
    "            return 'False'\n",
    "\n",
    "# What this function actually does (WRONG) - This function always returns the string 'True' regardless of the input string. \n",
    "                                    # It is checking if the character 'c' (not the variable c) is lowercase, which will always be true."
   ]
  },
  {
   "cell_type": "code",
   "execution_count": 5,
   "id": "614f93ec",
   "metadata": {},
   "outputs": [],
   "source": [
    "def any_lowercase3(s):\n",
    "    for c in s:\n",
    "        flag = c.islower()\n",
    "    return flag\n",
    "\n",
    "# What this function actually does (WRONG)- This function has the same problem as any_lowercase1. \n",
    "                                    # It only returns the result of the last character's lowercase check. \n",
    "                                    # If the last character is lowercase, it returns True; otherwise, it returns False."
   ]
  },
  {
   "cell_type": "code",
   "execution_count": 6,
   "id": "218087d4",
   "metadata": {},
   "outputs": [],
   "source": [
    "def any_lowercase4(s):\n",
    "    flag = False\n",
    "    for c in s:\n",
    "        flag = flag or c.islower()\n",
    "    return flag\n",
    "\n",
    "# What this function actually does (CORRECT) - This function correctly iterates through all characters in the string and updates the flag if any of them are lowercase. \n",
    "                                               # It returns True if any lowercase character is found; otherwise, it returns False."
   ]
  },
  {
   "cell_type": "code",
   "execution_count": 7,
   "id": "0b6c15b1",
   "metadata": {},
   "outputs": [],
   "source": [
    "def any_lowercase5(s):\n",
    "    for c in s:\n",
    "        if not c.islower():\n",
    "            return False\n",
    "    return True\n",
    "\n",
    "# What this function actually does (CORRECT) - This function returns True if all characters in the string are lowercase; otherwise, it returns False. \n",
    "                                               # It correctly iterates through all characters and checks if they are all lowercase."
   ]
  },
  {
   "cell_type": "markdown",
   "id": "3dfd7a7d",
   "metadata": {},
   "source": [
    "### Exercise 5"
   ]
  },
  {
   "cell_type": "code",
   "execution_count": 8,
   "id": "864be9b0",
   "metadata": {},
   "outputs": [
    {
     "name": "stdout",
     "output_type": "stream",
     "text": [
      "jolly\n",
      "cubed\n",
      "GZK\n"
     ]
    }
   ],
   "source": [
    "def rotate_word(word, shift):\n",
    "    rotated_word = \"\"\n",
    "    for char in word:\n",
    "        if char.isalpha():\n",
    "            # Determine the base offset depending on the case\n",
    "            base_offset = ord('a') if char.islower() else ord('A')\n",
    "            \n",
    "            # Rotate the letter and handle wrapping\n",
    "            rotated_char = chr((ord(char) - base_offset + shift) % 26 + base_offset)\n",
    "            \n",
    "            # Append the rotated letter to the result\n",
    "            rotated_word += rotated_char\n",
    "        else:\n",
    "            # If the character is not a letter, keep it unchanged\n",
    "            rotated_word += char\n",
    "    \n",
    "    return rotated_word\n",
    "\n",
    "# Examples\n",
    "print(rotate_word(\"cheer\", 7))  # Output: jolly\n",
    "print(rotate_word(\"melon\", -10))  # Output: cubed\n",
    "print(rotate_word(\"HAL\", -1))  # Output: IBM\n"
   ]
  }
 ],
 "metadata": {
  "kernelspec": {
   "display_name": "Python 3 (ipykernel)",
   "language": "python",
   "name": "python3"
  },
  "language_info": {
   "codemirror_mode": {
    "name": "ipython",
    "version": 3
   },
   "file_extension": ".py",
   "mimetype": "text/x-python",
   "name": "python",
   "nbconvert_exporter": "python",
   "pygments_lexer": "ipython3",
   "version": "3.11.5"
  }
 },
 "nbformat": 4,
 "nbformat_minor": 5
}
