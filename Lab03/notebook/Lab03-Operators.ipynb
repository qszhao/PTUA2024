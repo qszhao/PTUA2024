{
 "cells": [
  {
   "cell_type": "code",
   "execution_count": 1,
   "id": "15ed7669",
   "metadata": {},
   "outputs": [],
   "source": [
    "#Chapter 2 Exercises 1"
   ]
  },
  {
   "cell_type": "code",
   "execution_count": 4,
   "id": "a60e5b27",
   "metadata": {},
   "outputs": [
    {
     "ename": "SyntaxError",
     "evalue": "cannot assign to literal here. Maybe you meant '==' instead of '='? (1247378958.py, line 3)",
     "output_type": "error",
     "traceback": [
      "\u001b[1;36m  Cell \u001b[1;32mIn[4], line 3\u001b[1;36m\u001b[0m\n\u001b[1;33m    42=n\u001b[0m\n\u001b[1;37m    ^\u001b[0m\n\u001b[1;31mSyntaxError\u001b[0m\u001b[1;31m:\u001b[0m cannot assign to literal here. Maybe you meant '==' instead of '='?\n"
     ]
    }
   ],
   "source": [
    "#1  n=42 vs. 42=n\n",
    "n=42\n",
    "42=n"
   ]
  },
  {
   "cell_type": "code",
   "execution_count": 6,
   "id": "f7e8218d",
   "metadata": {},
   "outputs": [
    {
     "ename": "SyntaxError",
     "evalue": "invalid syntax (2068491520.py, line 2)",
     "output_type": "error",
     "traceback": [
      "\u001b[1;36m  Cell \u001b[1;32mIn[6], line 2\u001b[1;36m\u001b[0m\n\u001b[1;33m    print(x=y=1)\u001b[0m\n\u001b[1;37m             ^\u001b[0m\n\u001b[1;31mSyntaxError\u001b[0m\u001b[1;31m:\u001b[0m invalid syntax\n"
     ]
    }
   ],
   "source": [
    "#2 x=y=1\n",
    "print(x=y=1)"
   ]
  },
  {
   "cell_type": "code",
   "execution_count": 4,
   "id": "bc1a61ba",
   "metadata": {},
   "outputs": [
    {
     "ename": "SyntaxError",
     "evalue": "invalid character '；' (U+FF1B) (370115192.py, line 2)",
     "output_type": "error",
     "traceback": [
      "\u001b[1;36m  Cell \u001b[1;32mIn[4], line 2\u001b[1;36m\u001b[0m\n\u001b[1;33m    print(\"Hello, World!\")；\u001b[0m\n\u001b[1;37m                          ^\u001b[0m\n\u001b[1;31mSyntaxError\u001b[0m\u001b[1;31m:\u001b[0m invalid character '；' (U+FF1B)\n"
     ]
    }
   ],
   "source": [
    "#3 semi-colon at the end\n",
    "print(\"Hello, World!\")；"
   ]
  },
  {
   "cell_type": "code",
   "execution_count": 5,
   "id": "156a03d5",
   "metadata": {},
   "outputs": [
    {
     "ename": "SyntaxError",
     "evalue": "invalid syntax (2227484473.py, line 2)",
     "output_type": "error",
     "traceback": [
      "\u001b[1;36m  Cell \u001b[1;32mIn[5], line 2\u001b[1;36m\u001b[0m\n\u001b[1;33m    print(\"Hello, World!\").\u001b[0m\n\u001b[1;37m                           ^\u001b[0m\n\u001b[1;31mSyntaxError\u001b[0m\u001b[1;31m:\u001b[0m invalid syntax\n"
     ]
    }
   ],
   "source": [
    "#4 period at the end\n",
    "print(\"Hello, World!\")."
   ]
  },
  {
   "cell_type": "code",
   "execution_count": 6,
   "id": "4f1be016",
   "metadata": {},
   "outputs": [
    {
     "ename": "SyntaxError",
     "evalue": "invalid syntax (2610192198.py, line 2)",
     "output_type": "error",
     "traceback": [
      "\u001b[1;36m  Cell \u001b[1;32mIn[6], line 2\u001b[1;36m\u001b[0m\n\u001b[1;33m    z= x y\u001b[0m\n\u001b[1;37m         ^\u001b[0m\n\u001b[1;31mSyntaxError\u001b[0m\u001b[1;31m:\u001b[0m invalid syntax\n"
     ]
    }
   ],
   "source": [
    "#5 Multiplying x and y like 'x y' in Python\n",
    "z= x y\n",
    "z=x*y"
   ]
  },
  {
   "cell_type": "code",
   "execution_count": 7,
   "id": "be7f577a",
   "metadata": {},
   "outputs": [
    {
     "ename": "NameError",
     "evalue": "name 'n' is not defined",
     "output_type": "error",
     "traceback": [
      "\u001b[1;31m---------------------------------------------------------------------------\u001b[0m",
      "\u001b[1;31mNameError\u001b[0m                                 Traceback (most recent call last)",
      "Cell \u001b[1;32mIn[7], line 1\u001b[0m\n\u001b[1;32m----> 1\u001b[0m \u001b[38;5;28mprint\u001b[39m(n)\n\u001b[0;32m      2\u001b[0m \u001b[38;5;28mprint\u001b[39m(x,y)\n\u001b[0;32m      3\u001b[0m \u001b[38;5;28mprint\u001b[39m(z)\n",
      "\u001b[1;31mNameError\u001b[0m: name 'n' is not defined"
     ]
    }
   ],
   "source": [
    "print(n)\n",
    "print(x,y)\n",
    "print(z)"
   ]
  },
  {
   "cell_type": "code",
   "execution_count": 15,
   "id": "37ef7b13",
   "metadata": {},
   "outputs": [],
   "source": [
    "# Chapter 2 Excercise 2\n",
    "import datetime"
   ]
  },
  {
   "cell_type": "code",
   "execution_count": 10,
   "id": "e72aeeed",
   "metadata": {},
   "outputs": [
    {
     "name": "stdout",
     "output_type": "stream",
     "text": [
      "Volume of the sphere with radius 5: 523.5987666666666\n"
     ]
    }
   ],
   "source": [
    "#1 Volume of a Sphere\n",
    "r=5\n",
    "Volume = 4/3*3.1415926*r**3\n",
    "print(\"Volume of the sphere with radius 5:\",Volume)"
   ]
  },
  {
   "cell_type": "code",
   "execution_count": 13,
   "id": "4d0fd8fb",
   "metadata": {},
   "outputs": [
    {
     "name": "stdout",
     "output_type": "stream",
     "text": [
      "Total wholesale cost for 60 copies: 945.4499999999999\n"
     ]
    }
   ],
   "source": [
    "#2 Total Wholesale Cost for 60 Copies\n",
    "cover_price = 24.95\n",
    "discount_rate = 0.40\n",
    "shipping_first_copy = 3\n",
    "shipping_additional_copy = 0.75\n",
    "number_of_copies = 60\n",
    "\n",
    "discounted_price = cover_price * (1 - discount_rate)\n",
    "total_wholesale_cost = (discounted_price * number_of_copies) + shipping_first_copy + (number_of_copies - 1) * shipping_additional_copy\n",
    "print(\"Total wholesale cost for 60 copies:\", total_wholesale_cost)"
   ]
  },
  {
   "cell_type": "code",
   "execution_count": 16,
   "id": "027b224a",
   "metadata": {},
   "outputs": [
    {
     "name": "stdout",
     "output_type": "stream",
     "text": [
      "Time to get home for breakfast: 08:58 PM\n"
     ]
    }
   ],
   "source": [
    "#3 time to get breakfast\n",
    "start_time = datetime.datetime.strptime('6:52', '%I:%M')\n",
    "easy_pace_time = (8 * 60 + 15) * 2  # 2 miles\n",
    "tempo_pace_time = (7 * 60 + 12) * 3  # 3 miles\n",
    "total_time = easy_pace_time + tempo_pace_time\n",
    "end_time = start_time + datetime.timedelta(minutes=total_time)\n",
    "print(\"Time to get home for breakfast:\", end_time.strftime('%I:%M %p'))"
   ]
  },
  {
   "cell_type": "code",
   "execution_count": null,
   "id": "a0f4b1e6",
   "metadata": {},
   "outputs": [],
   "source": []
  }
 ],
 "metadata": {
  "kernelspec": {
   "display_name": "Python 3 (ipykernel)",
   "language": "python",
   "name": "python3"
  },
  "language_info": {
   "codemirror_mode": {
    "name": "ipython",
    "version": 3
   },
   "file_extension": ".py",
   "mimetype": "text/x-python",
   "name": "python",
   "nbconvert_exporter": "python",
   "pygments_lexer": "ipython3",
   "version": "3.11.5"
  }
 },
 "nbformat": 4,
 "nbformat_minor": 5
}
