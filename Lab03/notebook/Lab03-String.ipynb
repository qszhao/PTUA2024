{
 "cells": [
  {
   "cell_type": "code",
   "execution_count": 1,
   "id": "dbe04a28",
   "metadata": {},
   "outputs": [
    {
     "name": "stdout",
     "output_type": "stream",
     "text": [
      "Hello, world!\n",
      "   Hi, world!   \n"
     ]
    }
   ],
   "source": [
    "#1 Example using strip and replace\n",
    "text = \"   Hello, world!   \"\n",
    "stripped_text = text.strip() \n",
    "replaced_text = text.replace(\"Hello\", \"Hi\") \n",
    "print(stripped_text)\n",
    "print(replaced_text)"
   ]
  },
  {
   "cell_type": "code",
   "execution_count": 2,
   "id": "e7cc6fea",
   "metadata": {},
   "outputs": [
    {
     "name": "stdout",
     "output_type": "stream",
     "text": [
      "Count of 'a' in 'banana': 3\n"
     ]
    }
   ],
   "source": [
    "#2 Example using count\n",
    "word = \"banana\"\n",
    "count_of_a = word.count('a')\n",
    "print(\"Count of 'a' in 'banana':\", count_of_a)"
   ]
  },
  {
   "cell_type": "code",
   "execution_count": 5,
   "id": "12ebcc5f",
   "metadata": {},
   "outputs": [
    {
     "name": "stdout",
     "output_type": "stream",
     "text": [
      "bnn\n",
      "True\n",
      "False\n"
     ]
    }
   ],
   "source": [
    "#3 \n",
    "#Example using string slice with step size\n",
    "fruit = 'banana'\n",
    "sliced_fruit = fruit[0:5:2]\n",
    "print(sliced_fruit)\n",
    "\n",
    "# One-line version of is_palindrome using string slice with step size\n",
    "def is_palindrome(word):\n",
    "    return word == word[::-1]\n",
    "\n",
    "# Test the function\n",
    "print(is_palindrome(\"radar\")) \n",
    "print(is_palindrome(\"python\")) \n"
   ]
  },
  {
   "cell_type": "code",
   "execution_count": 6,
   "id": "b5462687",
   "metadata": {},
   "outputs": [],
   "source": [
    "#4 Description of each function\n",
    "def any_lowercase1(s):\n",
    "    for c in s:\n",
    "        if c.islower():\n",
    "            return True\n",
    "        else:\n",
    "            return False\n",
    "\n",
    "def any_lowercase2(s):\n",
    "    for c in s:\n",
    "        if 'c'.islower():\n",
    "            return 'True'\n",
    "        else:\n",
    "            return 'False'\n",
    "\n",
    "def any_lowercase3(s):\n",
    "    for c in s:\n",
    "        flag = c.islower()\n",
    "    return flag\n",
    "\n",
    "def any_lowercase4(s):\n",
    "    flag = False\n",
    "    for c in s:\n",
    "        flag = flag or c.islower()\n",
    "    return flag\n",
    "\n",
    "\n",
    "def any_lowercase5(s):\n",
    "    for c in s:\n",
    "        if not c.islower():\n",
    "            return False\n",
    "    return True\n",
    "\n"
   ]
  },
  {
   "cell_type": "code",
   "execution_count": 7,
   "id": "1c6f6039",
   "metadata": {},
   "outputs": [
    {
     "name": "stdout",
     "output_type": "stream",
     "text": [
      "jolly\n",
      "cubed\n"
     ]
    }
   ],
   "source": [
    "#5 Function to rotate a word\n",
    "def rotate_word(word, n):\n",
    "    rotated_word = ''\n",
    "    for char in word:\n",
    "        if char.isalpha():  # Check if the character is a letter\n",
    "            base = ord('a') if char.islower() else ord('A')\n",
    "            rotated_word += chr((ord(char) - base + n) % 26 + base)\n",
    "        else:\n",
    "            rotated_word += char  \n",
    "    return rotated_word\n",
    "\n",
    "# Test the function\n",
    "print(rotate_word(\"cheer\", 7)) \n",
    "print(rotate_word(\"melon\", -10))  \n"
   ]
  },
  {
   "cell_type": "code",
   "execution_count": null,
   "id": "86a400dd",
   "metadata": {},
   "outputs": [],
   "source": []
  }
 ],
 "metadata": {
  "kernelspec": {
   "display_name": "Python 3 (ipykernel)",
   "language": "python",
   "name": "python3"
  },
  "language_info": {
   "codemirror_mode": {
    "name": "ipython",
    "version": 3
   },
   "file_extension": ".py",
   "mimetype": "text/x-python",
   "name": "python",
   "nbconvert_exporter": "python",
   "pygments_lexer": "ipython3",
   "version": "3.11.5"
  }
 },
 "nbformat": 4,
 "nbformat_minor": 5
}
