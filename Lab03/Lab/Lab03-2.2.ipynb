{
 "cells": [
  {
   "cell_type": "code",
   "execution_count": 1,
   "id": "3503da6f",
   "metadata": {},
   "outputs": [
    {
     "name": "stdout",
     "output_type": "stream",
     "text": [
      "For convergence criterion 0.01:\n",
      "Average number of draws: 228.51\n",
      "Standard deviation of draws: 874.1452567508447\n",
      "\n",
      "For convergence criterion 0.001:\n",
      "Average number of draws: 1204.11\n",
      "Standard deviation of draws: 8195.205337140736\n",
      "\n",
      "For convergence criterion 0.0001:\n",
      "Average number of draws: 6670.93\n",
      "Standard deviation of draws: 29216.754593641985\n",
      "\n",
      "For convergence criterion 1e-05:\n",
      "Average number of draws: 41313.39\n",
      "Standard deviation of draws: 218969.87842234815\n",
      "\n"
     ]
    }
   ],
   "source": [
    "import random\n",
    "import math\n",
    "import numpy as np\n",
    "\n",
    "# Define the convergence criteria\n",
    "convergence_criteria = [0.01, 0.001, 0.0001, 0.00001]\n",
    "\n",
    "# Function to estimate Pi given a convergence criterion\n",
    "def estimate_pi(convergence_criterion):\n",
    "    pi = math.pi\n",
    "    n_draws = []\n",
    "\n",
    "    for _ in range(10):  # 10 runs\n",
    "        n = 0  # number of points falling in the unit circle\n",
    "        d = 0  # number of points falling in the unit square\n",
    "        \n",
    "        while True:\n",
    "            x = random.random()\n",
    "            y = random.random()\n",
    "            if x**2 + y**2 <= 1.0:\n",
    "                n += 1\n",
    "            d += 1\n",
    "            ratio = 4 * n / d\n",
    "            \n",
    "            # Check convergence criterion\n",
    "            if abs(ratio - pi) / pi <= convergence_criterion:\n",
    "                n_draws.append(d)\n",
    "                break\n",
    "\n",
    "    return n_draws\n",
    "\n",
    "# Calculate statistics for each convergence criterion\n",
    "for criterion in convergence_criteria:\n",
    "    all_draws = []\n",
    "\n",
    "    # Perform 10 runs for the current criterion\n",
    "    for _ in range(10):\n",
    "        draws = estimate_pi(criterion)\n",
    "        all_draws.extend(draws)\n",
    "\n",
    "    # Calculate and print statistics\n",
    "    average_draws = np.mean(all_draws)\n",
    "    std_draws = np.std(all_draws)\n",
    "    \n",
    "    print(f\"For convergence criterion {criterion}:\")\n",
    "    print(f\"Average number of draws: {average_draws}\")\n",
    "    print(f\"Standard deviation of draws: {std_draws}\")\n",
    "    print()\n"
   ]
  },
  {
   "cell_type": "code",
   "execution_count": null,
   "id": "de54eb99",
   "metadata": {},
   "outputs": [],
   "source": []
  }
 ],
 "metadata": {
  "kernelspec": {
   "display_name": "Python 3 (ipykernel)",
   "language": "python",
   "name": "python3"
  },
  "language_info": {
   "codemirror_mode": {
    "name": "ipython",
    "version": 3
   },
   "file_extension": ".py",
   "mimetype": "text/x-python",
   "name": "python",
   "nbconvert_exporter": "python",
   "pygments_lexer": "ipython3",
   "version": "3.11.5"
  }
 },
 "nbformat": 4,
 "nbformat_minor": 5
}
