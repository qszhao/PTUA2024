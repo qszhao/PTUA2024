{
 "cells": [
  {
   "cell_type": "markdown",
   "id": "0a43ec65",
   "metadata": {},
   "source": [
    "# Lab03-1: Operators and Strings"
   ]
  },
  {
   "cell_type": "markdown",
   "id": "d6e1ee13",
   "metadata": {},
   "source": [
    "### Student ID: 2659993"
   ]
  },
  {
   "cell_type": "markdown",
   "id": "c9de655c",
   "metadata": {},
   "source": [
    "#### Operators: Exercises 1-2 from Chapter 2"
   ]
  },
  {
   "cell_type": "markdown",
   "id": "c805caca",
   "metadata": {},
   "source": [
    "##### Exercise 1"
   ]
  },
  {
   "cell_type": "code",
   "execution_count": 3,
   "id": "fc08905b",
   "metadata": {},
   "outputs": [
    {
     "ename": "SyntaxError",
     "evalue": "cannot assign to literal here. Maybe you meant '==' instead of '='? (546313846.py, line 3)",
     "output_type": "error",
     "traceback": [
      "\u001b[1;36m  Cell \u001b[1;32mIn[3], line 3\u001b[1;36m\u001b[0m\n\u001b[1;33m    42 = n\u001b[0m\n\u001b[1;37m    ^\u001b[0m\n\u001b[1;31mSyntaxError\u001b[0m\u001b[1;31m:\u001b[0m cannot assign to literal here. Maybe you meant '==' instead of '='?\n"
     ]
    }
   ],
   "source": [
    "# We’ve seen that n = 42 is legal. What about 42 = n?\n",
    "\n",
    "42 = n"
   ]
  },
  {
   "cell_type": "markdown",
   "id": "d44032e1",
   "metadata": {},
   "source": [
    "- Answer: 42 = n is not the same as n = 42. It produces a syntax error."
   ]
  },
  {
   "cell_type": "code",
   "execution_count": 4,
   "id": "5b5ac2da",
   "metadata": {},
   "outputs": [],
   "source": [
    "# How about x = y = 1?\n",
    "\n",
    "x = y = 1"
   ]
  },
  {
   "cell_type": "markdown",
   "id": "01ae1ea1",
   "metadata": {},
   "source": [
    "- Answer: it is valid. X and Y are assigned the same value 1."
   ]
  },
  {
   "cell_type": "code",
   "execution_count": 7,
   "id": "2b68ca3f",
   "metadata": {},
   "outputs": [
    {
     "name": "stdout",
     "output_type": "stream",
     "text": [
      "3\n"
     ]
    }
   ],
   "source": [
    "# In some languages every statement ends with a semi-colon, ;.\n",
    "# What happens if you put a semi-colon at the end of a Python statement?\n",
    "\n",
    "w = 3;\n",
    "print(w);"
   ]
  },
  {
   "cell_type": "markdown",
   "id": "c5938fe3",
   "metadata": {},
   "source": [
    "- Answer: putting a semi-colon at the end of a statement does not seem to affect the code from running normally"
   ]
  },
  {
   "cell_type": "code",
   "execution_count": 8,
   "id": "178de052",
   "metadata": {},
   "outputs": [
    {
     "ename": "SyntaxError",
     "evalue": "invalid syntax (2514894257.py, line 4)",
     "output_type": "error",
     "traceback": [
      "\u001b[1;36m  Cell \u001b[1;32mIn[8], line 4\u001b[1;36m\u001b[0m\n\u001b[1;33m    print(z).\u001b[0m\n\u001b[1;37m             ^\u001b[0m\n\u001b[1;31mSyntaxError\u001b[0m\u001b[1;31m:\u001b[0m invalid syntax\n"
     ]
    }
   ],
   "source": [
    "# What if you put a period at the end of a statement?\n",
    "\n",
    "z = 4.\n",
    "print(z)."
   ]
  },
  {
   "cell_type": "markdown",
   "id": "b0a0e801",
   "metadata": {},
   "source": [
    "- Answer: apparently putting a period causes a syntax error when running the code."
   ]
  },
  {
   "cell_type": "code",
   "execution_count": 11,
   "id": "9bd90e27",
   "metadata": {},
   "outputs": [
    {
     "ename": "SyntaxError",
     "evalue": "invalid syntax (737226731.py, line 3)",
     "output_type": "error",
     "traceback": [
      "\u001b[1;36m  Cell \u001b[1;32mIn[11], line 3\u001b[1;36m\u001b[0m\n\u001b[1;33m    x y\u001b[0m\n\u001b[1;37m      ^\u001b[0m\n\u001b[1;31mSyntaxError\u001b[0m\u001b[1;31m:\u001b[0m invalid syntax\n"
     ]
    }
   ],
   "source": [
    "# In math notation you can multiply x and y like this: x y. What happens if you try that in Python?\n",
    "\n",
    "x y"
   ]
  },
  {
   "cell_type": "markdown",
   "id": "52cb6170",
   "metadata": {},
   "source": [
    "- Answer: Python returns an error for this syntax."
   ]
  },
  {
   "cell_type": "markdown",
   "id": "596f407a",
   "metadata": {},
   "source": [
    "##### Exercise 2"
   ]
  },
  {
   "cell_type": "code",
   "execution_count": 12,
   "id": "205f43c8",
   "metadata": {},
   "outputs": [],
   "source": [
    "# The volume of a sphere with radius r is 4/3 π r3. What is the volume of a sphere with radius 5?"
   ]
  },
  {
   "cell_type": "code",
   "execution_count": 14,
   "id": "dac3f4d4",
   "metadata": {},
   "outputs": [
    {
     "name": "stdout",
     "output_type": "stream",
     "text": [
      "523.5987755982989\n"
     ]
    }
   ],
   "source": [
    "import numpy as np\n",
    "r = 5\n",
    "volume = (4 / 3) * np.pi * r**3\n",
    "print(volume)"
   ]
  },
  {
   "cell_type": "code",
   "execution_count": 15,
   "id": "0e42db6b",
   "metadata": {},
   "outputs": [],
   "source": [
    "# Suppose the cover price of a book is $24.95, but bookstores get a 40% discount.\n",
    "# Shipping costs $3 for the first copy and 75 cents for each additional copy.\n",
    "# What is the total wholesale cost for 60 copies?"
   ]
  },
  {
   "cell_type": "code",
   "execution_count": 17,
   "id": "f52a5500",
   "metadata": {},
   "outputs": [
    {
     "name": "stdout",
     "output_type": "stream",
     "text": [
      "945.4499999999999\n"
     ]
    }
   ],
   "source": [
    "b = 60\n",
    "bookstore_price = 24.95 * 0.6\n",
    "shipping = 3 + 0.75 * (b - 1)\n",
    "cost = (bookstore_price * b) + shipping\n",
    "print(cost)"
   ]
  },
  {
   "cell_type": "code",
   "execution_count": 18,
   "id": "3b7ae518",
   "metadata": {},
   "outputs": [],
   "source": [
    "# If I leave my house at 6:52 am and run 1 mile at an easy pace (8:15 per mile),\n",
    "# then 3 miles at tempo (7:12 per mile) and 1 mile at easy pace again, what time do I get home for breakfast?"
   ]
  },
  {
   "cell_type": "code",
   "execution_count": 19,
   "id": "bcaeb8d4",
   "metadata": {},
   "outputs": [
    {
     "name": "stdout",
     "output_type": "stream",
     "text": [
      "76.2\n"
     ]
    }
   ],
   "source": [
    "# 8:15 = 8.25 minutes; 7:12 = 7.2 minutes\n",
    "total_time = 2 * (8.25*2 + 3*7.2)\n",
    "print(total_time)"
   ]
  },
  {
   "cell_type": "code",
   "execution_count": 20,
   "id": "2d435c20",
   "metadata": {},
   "outputs": [],
   "source": [
    "# 76.2 minutes = 1 hour, 16 minutes and 12 seconds"
   ]
  },
  {
   "cell_type": "markdown",
   "id": "1f0f85a5",
   "metadata": {},
   "source": [
    "- Answer: You will get home for breakfast at 8:08 am"
   ]
  },
  {
   "cell_type": "markdown",
   "id": "8e20786b",
   "metadata": {},
   "source": [
    "#### Strings: exercises 1-5 from Chapter 8"
   ]
  },
  {
   "cell_type": "markdown",
   "id": "1ceade82",
   "metadata": {},
   "source": [
    "##### Exercise 2"
   ]
  },
  {
   "cell_type": "code",
   "execution_count": 22,
   "id": "fb4e7715",
   "metadata": {},
   "outputs": [],
   "source": [
    "# There is a string method called count that is similar to the function in Section 8.7.\n",
    "# Read the documentation of this method and write an invocation that counts the number of a’s in 'banana'."
   ]
  },
  {
   "cell_type": "code",
   "execution_count": 26,
   "id": "a05329ea",
   "metadata": {},
   "outputs": [
    {
     "name": "stdout",
     "output_type": "stream",
     "text": [
      "3\n"
     ]
    }
   ],
   "source": [
    "x = \"banana\"\n",
    "print(x.count(\"a\"))"
   ]
  },
  {
   "cell_type": "markdown",
   "id": "a1f63b4a",
   "metadata": {},
   "source": [
    "##### Execise 3"
   ]
  },
  {
   "cell_type": "code",
   "execution_count": 1,
   "id": "6cacb826",
   "metadata": {},
   "outputs": [],
   "source": [
    "# A string slice can take a third index that specifies the “step size”;\n",
    "# that is, the number of spaces between successive characters.\n",
    "# A step size of 2 means every other character; 3 means every third, etc.\n",
    "\n",
    "# >>> fruit = 'banana'\n",
    "# >>> fruit[0:5:2]\n",
    "# 'bnn'\n",
    "# A step size of -1 goes through the word backwards, so the slice [::-1] generates a reversed string.\n",
    "\n",
    "# Use this idiom to write a one-line version of is_palindrome from Exercise 3."
   ]
  },
  {
   "cell_type": "code",
   "execution_count": 7,
   "id": "d6cc1ab4",
   "metadata": {},
   "outputs": [],
   "source": [
    "def is_palindrome(word):\n",
    "    if word[::-1] == word:\n",
    "        return True\n",
    "    else:\n",
    "        return False"
   ]
  },
  {
   "cell_type": "code",
   "execution_count": 9,
   "id": "bc40cf3d",
   "metadata": {},
   "outputs": [
    {
     "data": {
      "text/plain": [
       "True"
      ]
     },
     "execution_count": 9,
     "metadata": {},
     "output_type": "execute_result"
    }
   ],
   "source": [
    "word = \"noon\"\n",
    "is_palindrome(word)"
   ]
  },
  {
   "cell_type": "markdown",
   "id": "62a01604",
   "metadata": {},
   "source": [
    "##### Exercise 4"
   ]
  },
  {
   "cell_type": "code",
   "execution_count": 10,
   "id": "c04af84f",
   "metadata": {},
   "outputs": [],
   "source": [
    "# The following functions are all intended to check whether a string contains any lowercase letters,\n",
    "# but at least some of them are wrong. For each function, describe what the function actually does\n",
    "# (assuming that the parameter is a string)."
   ]
  },
  {
   "cell_type": "code",
   "execution_count": 58,
   "id": "b278c755",
   "metadata": {},
   "outputs": [
    {
     "data": {
      "text/plain": [
       "True"
      ]
     },
     "execution_count": 58,
     "metadata": {},
     "output_type": "execute_result"
    }
   ],
   "source": [
    "def any_lowercase1(s):\n",
    "    for c in s:\n",
    "        if c.islower():\n",
    "            return True\n",
    "        else:\n",
    "            return False\n",
    "\n",
    "s = \"suN\"\n",
    "any_lowercase1(s)"
   ]
  },
  {
   "cell_type": "markdown",
   "id": "2486b7f5",
   "metadata": {},
   "source": [
    "- Answer: The function returns True if the first letter of the string is lower case. Otherwise, it returns False."
   ]
  },
  {
   "cell_type": "code",
   "execution_count": 29,
   "id": "65c29de4",
   "metadata": {},
   "outputs": [
    {
     "data": {
      "text/plain": [
       "'True'"
      ]
     },
     "execution_count": 29,
     "metadata": {},
     "output_type": "execute_result"
    }
   ],
   "source": [
    "def any_lowercase2(s):\n",
    "    for c in s:\n",
    "        if 'c'.islower():\n",
    "            return 'True'\n",
    "        else:\n",
    "            return 'False'\n",
    "\n",
    "any_lowercase2(s)"
   ]
  },
  {
   "cell_type": "markdown",
   "id": "c5566996",
   "metadata": {},
   "source": [
    "- Answer: this function is wrong because it puts \"c\" between quotation marks, thus it always returns True, no matter what is the value assigned to s."
   ]
  },
  {
   "cell_type": "code",
   "execution_count": 40,
   "id": "38e004b1",
   "metadata": {},
   "outputs": [
    {
     "data": {
      "text/plain": [
       "True"
      ]
     },
     "execution_count": 40,
     "metadata": {},
     "output_type": "execute_result"
    }
   ],
   "source": [
    "def any_lowercase3(s):\n",
    "    for c in s:\n",
    "        flag = c.islower()\n",
    "    return flag\n",
    "\n",
    "any_lowercase3(s)"
   ]
  },
  {
   "cell_type": "markdown",
   "id": "8bdd445b",
   "metadata": {},
   "source": [
    "- Answer: it returns True if all the letters are lower case or only the first letter is capitalised. Otherwise, it returns false."
   ]
  },
  {
   "cell_type": "code",
   "execution_count": 49,
   "id": "0bd37a51",
   "metadata": {},
   "outputs": [
    {
     "data": {
      "text/plain": [
       "True"
      ]
     },
     "execution_count": 49,
     "metadata": {},
     "output_type": "execute_result"
    }
   ],
   "source": [
    "def any_lowercase4(s):\n",
    "    flag = False\n",
    "    for c in s:\n",
    "        flag = flag or c.islower()\n",
    "    return flag\n",
    "\n",
    "any_lowercase4(s)"
   ]
  },
  {
   "cell_type": "markdown",
   "id": "38589140",
   "metadata": {},
   "source": [
    "- Answer: the function returns True if there is at least one lower case letter in the string, no matter the position. Otherwise, it returns False."
   ]
  },
  {
   "cell_type": "code",
   "execution_count": 59,
   "id": "0e17bb8e",
   "metadata": {},
   "outputs": [
    {
     "data": {
      "text/plain": [
       "False"
      ]
     },
     "execution_count": 59,
     "metadata": {},
     "output_type": "execute_result"
    }
   ],
   "source": [
    "def any_lowercase5(s):\n",
    "    for c in s:\n",
    "        if not c.islower():\n",
    "            return False\n",
    "    return True\n",
    "\n",
    "any_lowercase5(s)"
   ]
  },
  {
   "cell_type": "markdown",
   "id": "984ae467",
   "metadata": {},
   "source": [
    "- Answer: the function only returns True if all letters are lower case."
   ]
  },
  {
   "cell_type": "markdown",
   "id": "9bf18987",
   "metadata": {},
   "source": [
    "##### Exercise 5"
   ]
  },
  {
   "cell_type": "code",
   "execution_count": 60,
   "id": "95063789",
   "metadata": {},
   "outputs": [],
   "source": [
    "# A Caesar cypher is a weak form of encryption that involves “rotating” each letter by a fixed number of places. To rotate a letter means to shift it through the alphabet, wrapping around to the beginning if necessary, so ’A’ rotated by 3 is ’D’ and ’Z’ rotated by 1 is ’A’.\n",
    "\n",
    "# To rotate a word, rotate each letter by the same amount. For example, “cheer” rotated by 7 is “jolly” and “melon” rotated by -10 is “cubed”. In the movie 2001: A Space Odyssey, the ship computer is called HAL, which is IBM rotated by -1.\n",
    "\n",
    "# Write a function called rotate_word that takes a string and an integer as parameters, and returns a new string that contains the letters from the original string rotated by the given amount.\n",
    "\n",
    "# You might want to use the built-in function ord, which converts a character to a numeric code, and chr, which converts numeric codes to characters. Letters of the alphabet are encoded in alphabetical order, so for example:\n",
    "\n",
    "# >>> ord('c') - ord('a')\n",
    "# 2\n",
    "# Because 'c' is the two-eth letter of the alphabet. But beware: the numeric codes for upper case letters are different.\n",
    "\n",
    "# Potentially offensive jokes on the Internet are sometimes encoded in ROT13, which is a Caesar cypher with rotation 13. If you are not easily offended, find and decode some of them. Solution: https://thinkpython.com/code/rotate.py."
   ]
  },
  {
   "cell_type": "code",
   "execution_count": 62,
   "id": "00abbc79",
   "metadata": {},
   "outputs": [
    {
     "data": {
      "text/plain": [
       "'jolly'"
      ]
     },
     "execution_count": 62,
     "metadata": {},
     "output_type": "execute_result"
    }
   ],
   "source": [
    "def rotate_word(string: str, num: int) -> str:\n",
    "    result = ''\n",
    "    for i in string:\n",
    "        i = chr(ord(i) + num)\n",
    "        result += i\n",
    "    return result\n",
    "\n",
    "string = \"cheer\"\n",
    "num = 7\n",
    "rotate_word(string, num)"
   ]
  }
 ],
 "metadata": {
  "kernelspec": {
   "display_name": "Python 3 (ipykernel)",
   "language": "python",
   "name": "python3"
  },
  "language_info": {
   "codemirror_mode": {
    "name": "ipython",
    "version": 3
   },
   "file_extension": ".py",
   "mimetype": "text/x-python",
   "name": "python",
   "nbconvert_exporter": "python",
   "pygments_lexer": "ipython3",
   "version": "3.11.5"
  }
 },
 "nbformat": 4,
 "nbformat_minor": 5
}
