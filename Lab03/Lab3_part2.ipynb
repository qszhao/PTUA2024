{
 "cells": [
  {
   "cell_type": "markdown",
   "id": "dc952d7a",
   "metadata": {},
   "source": [
    "For different values of the convergence criteria [0.01, 0.001, 0.0001, 0.00001] generate 10 estimates of Pi.\n",
    "\n",
    "For the four different convergence criteria have your script print the following statistics:\n",
    "- average number of draws required from the 10 runs\n",
    "- standard deviation of the number of draws required from the 10 runs.\n",
    "\n",
    "*For this second program do not use a sentinel to cap the number of draws."
   ]
  },
  {
   "cell_type": "code",
   "execution_count": null,
   "id": "05840b7d",
   "metadata": {},
   "outputs": [],
   "source": []
  }
 ],
 "metadata": {
  "kernelspec": {
   "display_name": "Python 3 (ipykernel)",
   "language": "python",
   "name": "python3"
  },
  "language_info": {
   "codemirror_mode": {
    "name": "ipython",
    "version": 3
   },
   "file_extension": ".py",
   "mimetype": "text/x-python",
   "name": "python",
   "nbconvert_exporter": "python",
   "pygments_lexer": "ipython3",
   "version": "3.11.5"
  }
 },
 "nbformat": 4,
 "nbformat_minor": 5
}
