{
 "cells": [
  {
   "cell_type": "code",
   "execution_count": 42,
   "id": "531cc39e",
   "metadata": {},
   "outputs": [
    {
     "name": "stdout",
     "output_type": "stream",
     "text": [
      "True\n",
      "False\n",
      "True\n",
      "True\n",
      "True\n",
      "True\n"
     ]
    }
   ],
   "source": [
    "# str.isidentifier()\n",
    "\n",
    "str1 = \"variable\"\n",
    "str2 = \"123variable\"\n",
    "str3 = \"_variable\"\n",
    "str4 = \"class\"\n",
    "str5 = \"def\"\n",
    "str6 = \"for\"\n",
    "\n",
    "print(str1.isidentifier())\n",
    "print(str2.isidentifier())\n",
    "print(str3.isidentifier())\n",
    "print(str4.isidentifier())  # False (keyword)\n",
    "print(str5.isidentifier())  # False (keyword)\n",
    "print(str6.isidentifier())  # False (keyword)\n"
   ]
  },
  {
   "cell_type": "code",
   "execution_count": 41,
   "id": "d481a591",
   "metadata": {},
   "outputs": [
    {
     "data": {
      "text/plain": [
       "'Hello world'"
      ]
     },
     "execution_count": 41,
     "metadata": {},
     "output_type": "execute_result"
    }
   ],
   "source": [
    "\"hello world\".capitalize()"
   ]
  },
  {
   "cell_type": "code",
   "execution_count": 13,
   "id": "a507e0cc",
   "metadata": {},
   "outputs": [
    {
     "data": {
      "text/plain": [
       "'hello world'"
      ]
     },
     "execution_count": 13,
     "metadata": {},
     "output_type": "execute_result"
    }
   ],
   "source": [
    "\"HEllo woRLd\".casefold()"
   ]
  },
  {
   "cell_type": "code",
   "execution_count": 23,
   "id": "ec642722",
   "metadata": {},
   "outputs": [
    {
     "name": "stdout",
     "output_type": "stream",
     "text": [
      "  Hello   \n",
      "//Hello///\n"
     ]
    }
   ],
   "source": [
    "# str.center(width[, fillchar])\n",
    "\n",
    "text = \"Hello\"\n",
    "\n",
    "centered_text = text.center(10)\n",
    "print(centered_text)\n",
    "\n",
    "centered_text = text.center(10, '/')\n",
    "print(centered_text)"
   ]
  },
  {
   "cell_type": "code",
   "execution_count": 34,
   "id": "e57ce2d0",
   "metadata": {},
   "outputs": [
    {
     "name": "stdout",
     "output_type": "stream",
     "text": [
      "b'hello!\\xe4\\xbd\\xa0\\xe5\\xa5\\xbd\\xe2\\x80\\xa6'\n",
      "b'hello!'\n",
      "b'hello!&#20320;&#22909;&#8230;'\n"
     ]
    }
   ],
   "source": [
    "# str.encode(encoding='utf-8', errors='strict')\n",
    "\n",
    "text = \"hello!你好…\"\n",
    "\n",
    "encoded_text = text.encode(encoding='utf-8')\n",
    "print(encoded_text)\n",
    "\n",
    "encoded_text_ascii = text.encode(encoding='ascii', errors='ignore')\n",
    "print(encoded_text_ascii)\n",
    "\n",
    "encoded_text_ascii_replace = text.encode(encoding='ascii', errors='xmlcharrefreplace')\n",
    "print(encoded_text_ascii_replace)\n"
   ]
  },
  {
   "cell_type": "code",
   "execution_count": 46,
   "id": "ecb1edcf",
   "metadata": {},
   "outputs": [
    {
     "name": "stdout",
     "output_type": "stream",
     "text": [
      "True\n",
      "False\n",
      "True\n",
      "True\n"
     ]
    }
   ],
   "source": [
    "# str.endswith(suffix[, start[, end]])\n",
    "\n",
    "text = \"Hello, world!\"\n",
    "\n",
    "result1 = text.endswith(\"world!\")\n",
    "print(result1)\n",
    "\n",
    "result2 = text.endswith(\"Hello\")\n",
    "print(result2)\n",
    "\n",
    "result3 = text.endswith((\"!\", \".\"))  # Check if it ends with \"!\" or \".\"\n",
    "print(result3)\n",
    "\n",
    "result4 = text.endswith(\"wor\", 3, 10)\n",
    "print(result4)"
   ]
  },
  {
   "cell_type": "code",
   "execution_count": 11,
   "id": "b06ec590",
   "metadata": {},
   "outputs": [
    {
     "name": "stdout",
     "output_type": "stream",
     "text": [
      "Hello   world!\n",
      "This    is      a       test.\n"
     ]
    }
   ],
   "source": [
    "# str.expandtabs(tabsize=8)\n",
    "\n",
    "original_string = \"Hello\\tworld!\\nThis\\tis\\ta\\ttest.\"\n",
    "\n",
    "expanded_string = original_string.expandtabs(tabsize=8)\n",
    "\n",
    "print(expanded_string)\n"
   ]
  },
  {
   "cell_type": "code",
   "execution_count": 18,
   "id": "bcb3812b",
   "metadata": {},
   "outputs": [
    {
     "name": "stdout",
     "output_type": "stream",
     "text": [
      "Substring 'world' found at index: 7\n",
      "Substring 'world' found at index: 7\n",
      "Substring 'is' found at index: 16\n"
     ]
    }
   ],
   "source": [
    "# str.find(sub[, start[, end]])\n",
    "\n",
    "s = \"Hello, world! This is a test string.\"\n",
    "\n",
    "index = s.find(\"world\")\n",
    "print(\"Substring 'world' found at index:\", index)\n",
    "\n",
    "index = s.find(\"world\", 7)\n",
    "print(\"Substring 'world' found at index:\", index)\n",
    "\n",
    "index = s.find(\"is\", 7, 18)\n",
    "print(\"Substring 'is' found at index:\", index)\n"
   ]
  },
  {
   "cell_type": "code",
   "execution_count": 19,
   "id": "951c5153",
   "metadata": {},
   "outputs": [
    {
     "name": "stdout",
     "output_type": "stream",
     "text": [
      "Hello, Alice. Today is Monday.\n",
      "Hello, Bob. Today is Tuesday.\n",
      "Hello, Charlie. Today is Wednesday.\n"
     ]
    }
   ],
   "source": [
    "# str.format(*args, **kwargs)\n",
    "\n",
    "# Format strings using positional parameters\n",
    "formatted_string = \"Hello, {}. Today is {}.\".format(\"Alice\", \"Monday\")\n",
    "print(formatted_string)\n",
    "\n",
    "# Format strings using keyword parameters\n",
    "formatted_string = \"Hello, {name}. Today is {day}.\".format(name=\"Bob\", day=\"Tuesday\")\n",
    "print(formatted_string)\n",
    "\n",
    "# Format strings using both\n",
    "formatted_string = \"Hello, {0}. Today is {day}.\".format(\"Charlie\", day=\"Wednesday\")\n",
    "print(formatted_string)\n"
   ]
  },
  {
   "cell_type": "code",
   "execution_count": 20,
   "id": "9426c2f5",
   "metadata": {},
   "outputs": [
    {
     "name": "stdout",
     "output_type": "stream",
     "text": [
      "My name is Alice and I am 30 years old.\n"
     ]
    }
   ],
   "source": [
    "# str.format_map(mapping)\n",
    "\n",
    "data = {'name': 'Alice', 'age': 30}\n",
    "\n",
    "formatted_string = \"My name is {name} and I am {age} years old.\".format_map(data)\n",
    "print(formatted_string)\n"
   ]
  },
  {
   "cell_type": "code",
   "execution_count": 21,
   "id": "46bf731e",
   "metadata": {},
   "outputs": [
    {
     "name": "stdout",
     "output_type": "stream",
     "text": [
      "Substring 'world' found at index: 7\n"
     ]
    },
    {
     "ename": "ValueError",
     "evalue": "substring not found",
     "output_type": "error",
     "traceback": [
      "\u001b[1;31m---------------------------------------------------------------------------\u001b[0m",
      "\u001b[1;31mValueError\u001b[0m                                Traceback (most recent call last)",
      "Cell \u001b[1;32mIn[21], line 8\u001b[0m\n\u001b[0;32m      5\u001b[0m index \u001b[38;5;241m=\u001b[39m s\u001b[38;5;241m.\u001b[39mindex(\u001b[38;5;124m\"\u001b[39m\u001b[38;5;124mworld\u001b[39m\u001b[38;5;124m\"\u001b[39m)\n\u001b[0;32m      6\u001b[0m \u001b[38;5;28mprint\u001b[39m(\u001b[38;5;124m\"\u001b[39m\u001b[38;5;124mSubstring \u001b[39m\u001b[38;5;124m'\u001b[39m\u001b[38;5;124mworld\u001b[39m\u001b[38;5;124m'\u001b[39m\u001b[38;5;124m found at index:\u001b[39m\u001b[38;5;124m\"\u001b[39m, index)\n\u001b[1;32m----> 8\u001b[0m index \u001b[38;5;241m=\u001b[39m s\u001b[38;5;241m.\u001b[39mindex(\u001b[38;5;124m\"\u001b[39m\u001b[38;5;124muniverse\u001b[39m\u001b[38;5;124m\"\u001b[39m)\n\u001b[0;32m      9\u001b[0m \u001b[38;5;28mprint\u001b[39m()\n",
      "\u001b[1;31mValueError\u001b[0m: substring not found"
     ]
    }
   ],
   "source": [
    "# str.index(sub[, start[, end]])\n",
    "\n",
    "s = \"Hello, world!\"\n",
    "\n",
    "index = s.index(\"world\")\n",
    "print(\"Substring 'world' found at index:\", index)\n",
    "\n",
    "index = s.index(\"universe\")\n",
    "print()\n"
   ]
  },
  {
   "cell_type": "code",
   "execution_count": 22,
   "id": "2937cb7c",
   "metadata": {},
   "outputs": [
    {
     "name": "stdout",
     "output_type": "stream",
     "text": [
      "True\n",
      "True\n",
      "False\n",
      "False\n"
     ]
    }
   ],
   "source": [
    "# str.isalnum()\n",
    "\n",
    "s1 = \"Hello123\"\n",
    "s2 = \"12345\"\n",
    "s3 = \"Hello 123\"\n",
    "s4 = \"\"\n",
    "\n",
    "print(s1.isalnum())\n",
    "print(s2.isalnum())\n",
    "print(s3.isalnum())\n",
    "print(s4.isalnum())\n"
   ]
  },
  {
   "cell_type": "code",
   "execution_count": 23,
   "id": "4e259a6e",
   "metadata": {},
   "outputs": [
    {
     "name": "stdout",
     "output_type": "stream",
     "text": [
      "True\n",
      "False\n",
      "False\n",
      "False\n"
     ]
    }
   ],
   "source": [
    "# str.isalpha()\n",
    "\n",
    "s1 = \"Hello\"\n",
    "s2 = \"12345\"\n",
    "s3 = \"Hello123\"\n",
    "s4 = \"\"\n",
    "\n",
    "print(s1.isalpha())\n",
    "print(s2.isalpha())\n",
    "print(s3.isalpha())\n",
    "print(s4.isalpha())\n"
   ]
  },
  {
   "cell_type": "code",
   "execution_count": 24,
   "id": "937d260b",
   "metadata": {},
   "outputs": [
    {
     "name": "stdout",
     "output_type": "stream",
     "text": [
      "True\n",
      "False\n",
      "True\n",
      "True\n"
     ]
    }
   ],
   "source": [
    "# str.isascii()\n",
    "\n",
    "s1 = \"Hello\"\n",
    "s2 = \"你好\"\n",
    "s3 = \"12345\"\n",
    "s4 = \"\"\n",
    "\n",
    "print(s1.isascii())\n",
    "print(s2.isascii())\n",
    "print(s3.isascii())\n",
    "print(s4.isascii())\n"
   ]
  },
  {
   "cell_type": "code",
   "execution_count": 26,
   "id": "fd4d1454",
   "metadata": {},
   "outputs": [
    {
     "name": "stdout",
     "output_type": "stream",
     "text": [
      "True\n",
      "False\n"
     ]
    }
   ],
   "source": [
    "# str.isdecimal()\n",
    "\n",
    "s1 = \"12345\"\n",
    "s2 = \"12.345\"\n",
    "\n",
    "print(s1.isdecimal())\n",
    "print(s2.isdecimal())\n"
   ]
  },
  {
   "cell_type": "code",
   "execution_count": 27,
   "id": "8a4c0b7a",
   "metadata": {
    "scrolled": true
   },
   "outputs": [
    {
     "name": "stdout",
     "output_type": "stream",
     "text": [
      "True\n",
      "False\n",
      "False\n"
     ]
    }
   ],
   "source": [
    "# str.isdigit()\n",
    "\n",
    "s1 = \"12345\"\n",
    "s2 = \"12.345\"\n",
    "s3 = \"Ⅴ\"\n",
    "\n",
    "print(s1.isdigit())\n",
    "print(s2.isdigit())\n",
    "print(s3.isdigit())\n"
   ]
  },
  {
   "cell_type": "code",
   "execution_count": 38,
   "id": "508dbef6",
   "metadata": {},
   "outputs": [
    {
     "name": "stdout",
     "output_type": "stream",
     "text": [
      "True\n",
      "False\n",
      "True\n",
      "False\n",
      "False\n"
     ]
    }
   ],
   "source": [
    "# str.islower()\n",
    "\n",
    "s1 = \"hello\"\n",
    "s2 = \"Hello\"\n",
    "s3 = \"hello123\"\n",
    "s4 = \"12345\"\n",
    "s5 = \"\"\n",
    "\n",
    "print(s1.islower())\n",
    "print(s2.islower())\n",
    "print(s3.islower())\n",
    "print(s4.islower())\n",
    "print(s5.islower())"
   ]
  },
  {
   "cell_type": "code",
   "execution_count": 39,
   "id": "732e6ec0",
   "metadata": {},
   "outputs": [
    {
     "name": "stdout",
     "output_type": "stream",
     "text": [
      "hello world\n",
      "ello world\n"
     ]
    }
   ],
   "source": [
    "# str.strip([chars])\n",
    "\n",
    "s = \"   hello world   \"\n",
    "\n",
    "print(s.strip())\n",
    "\n",
    "print(s.strip(\" h\"))\n"
   ]
  },
  {
   "cell_type": "code",
   "execution_count": 40,
   "id": "24fbf049",
   "metadata": {},
   "outputs": [
    {
     "name": "stdout",
     "output_type": "stream",
     "text": [
      "pear banana pear orange pear\n",
      "pear banana pear orange apple\n"
     ]
    }
   ],
   "source": [
    "# str.replace(old, new[, count])\n",
    "\n",
    "s = \"apple banana apple orange apple\"\n",
    "\n",
    "new_string = s.replace(\"apple\", \"pear\")\n",
    "print(new_string)\n",
    "\n",
    "new_string_with_limit = s.replace(\"apple\", \"pear\", 2)\n",
    "print(new_string_with_limit)\n"
   ]
  },
  {
   "cell_type": "code",
   "execution_count": null,
   "id": "696b64ec",
   "metadata": {},
   "outputs": [],
   "source": [
    "# str.count(sub[, start[, end]])\n",
    "\n",
    "text = \"banana\"\n",
    "\n",
    "count_a = text.count(\"a\")\n",
    "print(count_a)\n"
   ]
  },
  {
   "cell_type": "code",
   "execution_count": 46,
   "id": "aa906ee5",
   "metadata": {},
   "outputs": [
    {
     "name": "stdout",
     "output_type": "stream",
     "text": [
      "True\n",
      "True\n",
      "False\n",
      "True\n",
      "True\n",
      "True\n"
     ]
    }
   ],
   "source": [
    "# palindrome.py\n",
    "\n",
    "def first(word):\n",
    "    return word[0]\n",
    "\n",
    "def last(word):\n",
    "    return word[-1]\n",
    "\n",
    "def middle(word):\n",
    "    return word[1:-1]\n",
    "\n",
    "def is_palindrome(word):\n",
    "    if len(word) <= 1:\n",
    "        return True\n",
    "    elif first(word) != last(word):\n",
    "        return False\n",
    "    else:\n",
    "        return is_palindrome(middle(word))\n",
    "\n",
    "# Test the functions\n",
    "print(is_palindrome('noon'))\n",
    "print(is_palindrome('redivider'))\n",
    "print(is_palindrome('hello'))\n",
    "print(is_palindrome('racecar'))\n",
    "print(is_palindrome('a'))\n",
    "print(is_palindrome(''))\n"
   ]
  },
  {
   "cell_type": "code",
   "execution_count": 2,
   "id": "6a8215cd",
   "metadata": {},
   "outputs": [
    {
     "name": "stdout",
     "output_type": "stream",
     "text": [
      "False\n"
     ]
    }
   ],
   "source": [
    "# This function checks if the first character in the string is lowercase and returns.\n",
    "# It doesn't iterate through all characters in the string.\n",
    "\n",
    "def any_lowercase1(s):\n",
    "    for c in s:\n",
    "        if c.islower():\n",
    "            return True\n",
    "        else:\n",
    "            return False\n",
    "\n",
    "string = \"Hello\"\n",
    "result = any_lowercase1(string)\n",
    "print(result)\n"
   ]
  },
  {
   "cell_type": "code",
   "execution_count": 4,
   "id": "9d57df63",
   "metadata": {},
   "outputs": [
    {
     "name": "stdout",
     "output_type": "stream",
     "text": [
      "True\n"
     ]
    }
   ],
   "source": [
    "# This function always returns the string \"True\". It's not actually checking the lowercase status of the characters in the input string. \n",
    "# It's checking if the character 'c' is lowercase, which it is, so it returns 'True' every time.\n",
    "\n",
    "def any_lowercase2(s):\n",
    "    for c in s:\n",
    "        if 'c'.islower():\n",
    "            return 'True'\n",
    "        else:\n",
    "            return 'False'\n",
    "\n",
    "string = \"Hello\"\n",
    "result = any_lowercase2(string)\n",
    "print(result)\n"
   ]
  },
  {
   "cell_type": "code",
   "execution_count": 6,
   "id": "27622343",
   "metadata": {},
   "outputs": [
    {
     "name": "stdout",
     "output_type": "stream",
     "text": [
      "True\n"
     ]
    }
   ],
   "source": [
    "# This function iterates through all characters in the string but only keeps track of whether the last character is lowercase or not. \n",
    "# It returns the lowercase status of the last character.\n",
    "\n",
    "def any_lowercase3(s):\n",
    "    for c in s:\n",
    "        flag = c.islower()\n",
    "    return flag\n",
    "\n",
    "string = \"Hello\"\n",
    "result = any_lowercase3(string)\n",
    "print(result)\n"
   ]
  },
  {
   "cell_type": "code",
   "execution_count": 11,
   "id": "4b61508f",
   "metadata": {},
   "outputs": [
    {
     "name": "stdout",
     "output_type": "stream",
     "text": [
      "True\n",
      "False\n"
     ]
    }
   ],
   "source": [
    "# This function iterates through all characters in the string and updates the flag to 'True' if any lowercase character is found. \n",
    "# However, it doesn't stop after finding the first lowercase character, which is inefficient. \n",
    "# It should return immediately after finding the first lowercase character.\n",
    "\n",
    "def any_lowercase4(s):\n",
    "    flag = False\n",
    "    for c in s:\n",
    "        flag = flag or c.islower()\n",
    "    return flag\n",
    "\n",
    "string1 = \"Hello\"\n",
    "result1 = any_lowercase4(string1)\n",
    "print(result1)\n",
    "\n",
    "string2 = \"HELLO\"\n",
    "result2 = any_lowercase4(string2)\n",
    "print(result2)\n"
   ]
  },
  {
   "cell_type": "code",
   "execution_count": 9,
   "id": "ba1215b1",
   "metadata": {},
   "outputs": [
    {
     "name": "stdout",
     "output_type": "stream",
     "text": [
      "True\n",
      "False\n"
     ]
    }
   ],
   "source": [
    "# This function checks if all characters in the string are lowercase. If any character is not lowercase, it returns 'False'. \n",
    "# If all characters are lowercase, it returns 'True'.\n",
    "\n",
    "def any_lowercase5(s):\n",
    "    for c in s:\n",
    "        if not c.islower():\n",
    "            return False\n",
    "    return True\n",
    "\n",
    "string1 = \"hello\"\n",
    "result1 = any_lowercase5(string1)\n",
    "print(result1)\n",
    "\n",
    "string2 = \"Hello\"\n",
    "result2 = any_lowercase5(string2)\n",
    "print(result2) \n"
   ]
  },
  {
   "cell_type": "code",
   "execution_count": 12,
   "id": "484bf3e7",
   "metadata": {},
   "outputs": [
    {
     "name": "stdout",
     "output_type": "stream",
     "text": [
      "jolly\n"
     ]
    }
   ],
   "source": [
    "def rotate_word(string, shift):\n",
    "    rotated_string = \"\"\n",
    "    for char in string:\n",
    "        if char.isalpha():\n",
    "            # Determine whether it's an uppercase or lowercase letter\n",
    "            if char.isupper():\n",
    "                base = ord('A')\n",
    "            else:\n",
    "                base = ord('a')\n",
    "            # Calculate the rotated character's ASCII code\n",
    "            rotated_char_code = ((ord(char) - base + shift) % 26) + base\n",
    "            # Convert ASCII code back to character and append to the result\n",
    "            rotated_string += chr(rotated_char_code)\n",
    "        else:\n",
    "            # If it's not a letter, simply append it unchanged\n",
    "            rotated_string += char\n",
    "    return rotated_string\n",
    "\n",
    "original_word = \"cheer\"\n",
    "rotation_amount = 7\n",
    "rotated_word = rotate_word(original_word, rotation_amount)\n",
    "print(rotated_word)\n"
   ]
  }
 ],
 "metadata": {
  "kernelspec": {
   "display_name": "Python 3 (ipykernel)",
   "language": "python",
   "name": "python3"
  },
  "language_info": {
   "codemirror_mode": {
    "name": "ipython",
    "version": 3
   },
   "file_extension": ".py",
   "mimetype": "text/x-python",
   "name": "python",
   "nbconvert_exporter": "python",
   "pygments_lexer": "ipython3",
   "version": "3.11.5"
  }
 },
 "nbformat": 4,
 "nbformat_minor": 5
}
