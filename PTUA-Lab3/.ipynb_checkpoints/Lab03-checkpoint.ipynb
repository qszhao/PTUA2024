{
 "cells": [
  {
   "cell_type": "code",
   "execution_count": 1,
   "id": "7ab3f290",
   "metadata": {},
   "outputs": [
    {
     "data": {
      "text/plain": [
       "6"
      ]
     },
     "execution_count": 1,
     "metadata": {},
     "output_type": "execute_result"
    }
   ],
   "source": [
    "5\n",
    "x = 5\n",
    "x + 1 "
   ]
  },
  {
   "cell_type": "code",
   "execution_count": 3,
   "id": "ac112c55",
   "metadata": {},
   "outputs": [],
   "source": [
    "x = y = 1"
   ]
  },
  {
   "cell_type": "code",
   "execution_count": 6,
   "id": "6e1ef711",
   "metadata": {},
   "outputs": [],
   "source": [
    "r = 1;"
   ]
  },
  {
   "cell_type": "code",
   "execution_count": 9,
   "id": "02e32afd",
   "metadata": {},
   "outputs": [],
   "source": [
    "q = 'state'"
   ]
  },
  {
   "cell_type": "code",
   "execution_count": 17,
   "id": "4410f8cc",
   "metadata": {},
   "outputs": [
    {
     "data": {
      "text/plain": [
       "523.5987755982989"
      ]
     },
     "execution_count": 17,
     "metadata": {},
     "output_type": "execute_result"
    }
   ],
   "source": [
    "import math\n",
    "v = 4/3 * math.pi * 5**3\n",
    "v"
   ]
  },
  {
   "cell_type": "code",
   "execution_count": 20,
   "id": "0f5dce5f",
   "metadata": {},
   "outputs": [
    {
     "data": {
      "text/plain": [
       "945.4499999999999"
      ]
     },
     "execution_count": 20,
     "metadata": {},
     "output_type": "execute_result"
    }
   ],
   "source": [
    "n=60\n",
    "cost= (24.95*0.6*n)+3+0.75*(n-1)\n",
    "cost"
   ]
  },
  {
   "cell_type": "code",
   "execution_count": 21,
   "id": "877e146e",
   "metadata": {},
   "outputs": [
    {
     "name": "stdout",
     "output_type": "stream",
     "text": [
      "You'll be home for breakfast at 07:30 AM.\n"
     ]
    }
   ],
   "source": [
    "from datetime import datetime, timedelta\n",
    "\n",
    "# Define the running paces in minutes and seconds\n",
    "easy_pace = timedelta(minutes=8, seconds=15)\n",
    "tempo_pace = timedelta(minutes=7, seconds=12)\n",
    "\n",
    "# Define the distances in miles\n",
    "easy_distance = 2  # 1 mile at the beginning and 1 mile at the end\n",
    "tempo_distance = 3\n",
    "\n",
    "# Calculate the total time spent running\n",
    "total_time = easy_pace * easy_distance + tempo_pace * tempo_distance\n",
    "\n",
    "# Define the starting time\n",
    "start_time = datetime.strptime(\"6:52\", \"%I:%M\")\n",
    "\n",
    "# Calculate the time you'll be home\n",
    "home_time = start_time + total_time\n",
    "\n",
    "# Format and print the result\n",
    "print(f\"You'll be home for breakfast at {home_time.strftime('%I:%M %p')}.\")\n"
   ]
  },
  {
   "cell_type": "code",
   "execution_count": 22,
   "id": "3bd1ecbc",
   "metadata": {},
   "outputs": [
    {
     "name": "stdout",
     "output_type": "stream",
     "text": [
      "The number of 'a's in 'banana' is: 3\n"
     ]
    }
   ],
   "source": [
    "# Chapter 8\n",
    "\n",
    "my_string = 'banana'\n",
    "count_a = my_string.count('a')\n",
    "print(f\"The number of 'a's in 'banana' is: {count_a}\")\n"
   ]
  },
  {
   "cell_type": "code",
   "execution_count": 23,
   "id": "353a9663",
   "metadata": {},
   "outputs": [
    {
     "name": "stdout",
     "output_type": "stream",
     "text": [
      "True\n",
      "True\n",
      "False\n"
     ]
    }
   ],
   "source": [
    "def is_palindrome(word):\n",
    "    return word == word[::-1]\n",
    "print(is_palindrome('noon'))     \n",
    "print(is_palindrome('redivider')) \n",
    "print(is_palindrome('hello'))      "
   ]
  },
  {
   "cell_type": "code",
   "execution_count": 26,
   "id": "478adfff",
   "metadata": {},
   "outputs": [],
   "source": [
    "# The following functions are all intended to check whether a string contains any lowercase letters, but at least some of them are wrong. For each function, describe what the function actually does (assuming that the parameter is a string).\n",
    "\n",
    "def any_lowercase1(s):\n",
    "    for c in s:\n",
    "        if c.islower():\n",
    "            return True\n",
    "        else:\n",
    "            return False\n",
    "# doesnt check the whole string\n",
    "        \n",
    "        \n",
    "def any_lowercase2(s):\n",
    "    for c in s:\n",
    "        if 'c'.islower():\n",
    "            return 'True'\n",
    "        else:\n",
    "            return 'False'\n",
    "#always returns true as checks if the string c is lower\n",
    "        \n",
    "        \n",
    "def any_lowercase3(s):\n",
    "    for c in s:\n",
    "        flag = c.islower()\n",
    "    return flag\n",
    "\n",
    "#doesnt check if any character is lowercase or reflect if string is empty properly\n",
    "\n",
    "def any_lowercase4(s):\n",
    "    flag = False\n",
    "    for c in s:\n",
    "        flag = flag or c.islower()\n",
    "    return flag\n",
    "\n",
    "\n",
    "# works correctly\n",
    "\n",
    "def any_lowercase5(s):\n",
    "    for c in s:\n",
    "        if not c.islower():\n",
    "            return False\n",
    "    return True\n",
    "\n",
    "#works correctly"
   ]
  },
  {
   "cell_type": "code",
   "execution_count": 27,
   "id": "ffc13272",
   "metadata": {},
   "outputs": [
    {
     "name": "stdout",
     "output_type": "stream",
     "text": [
      "The word \"cheer\" rotated by 7 is: jolly\n"
     ]
    }
   ],
   "source": [
    "def rotate_word(word, rotation):\n",
    "    rotated_word = ''\n",
    "    for char in word:\n",
    "        if char.isalpha():\n",
    "            is_upper = char.isupper()\n",
    "            rotated_char = chr((ord(char) - ord('A' if is_upper else 'a') + rotation) % 26 + ord('A' if is_upper else 'a'))\n",
    "            rotated_word += rotated_char\n",
    "        else:\n",
    "            rotated_word += char\n",
    "    return rotated_word\n",
    "\n",
    "# Example usage:\n",
    "original_word = \"cheer\"\n",
    "rotation_amount = 7\n",
    "result = rotate_word(original_word, rotation_amount)\n",
    "print(f'The word \"{original_word}\" rotated by {rotation_amount} is: {result}')\n"
   ]
  },
  {
   "cell_type": "code",
   "execution_count": null,
   "id": "55f41b9f",
   "metadata": {},
   "outputs": [],
   "source": []
  }
 ],
 "metadata": {
  "kernelspec": {
   "display_name": "Python 3 (ipykernel)",
   "language": "python",
   "name": "python3"
  },
  "language_info": {
   "codemirror_mode": {
    "name": "ipython",
    "version": 3
   },
   "file_extension": ".py",
   "mimetype": "text/x-python",
   "name": "python",
   "nbconvert_exporter": "python",
   "pygments_lexer": "ipython3",
   "version": "3.11.5"
  }
 },
 "nbformat": 4,
 "nbformat_minor": 5
}
